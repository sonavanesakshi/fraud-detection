{
 "cells": [
  {
   "cell_type": "markdown",
   "id": "a38d1ca9",
   "metadata": {
    "id": "a38d1ca9",
    "papermill": {
     "duration": 0.030013,
     "end_time": "2022-02-04T02:35:38.498790",
     "exception": false,
     "start_time": "2022-02-04T02:35:38.468777",
     "status": "completed"
    },
    "tags": []
   },
   "source": [
    "# Objective\n",
    "* The objective is to identify a fraudlent transaction as accurately as possible.\n",
    "* To Compare different models based on their performance"
   ]
  },
  {
   "cell_type": "markdown",
   "id": "ed53c54a",
   "metadata": {
    "id": "ed53c54a",
    "papermill": {
     "duration": 0.028546,
     "end_time": "2022-02-04T02:35:38.555598",
     "exception": false,
     "start_time": "2022-02-04T02:35:38.527052",
     "status": "completed"
    },
    "tags": []
   },
   "source": [
    "##### Import neccessary libraries"
   ]
  },
  {
   "cell_type": "code",
   "execution_count": 1,
   "id": "6a212ce3",
   "metadata": {
    "_cell_guid": "b1076dfc-b9ad-4769-8c92-a6c4dae69d19",
    "_uuid": "8f2839f25d086af736a60e9eeb907d3b93b6e0e5",
    "execution": {
     "iopub.execute_input": "2022-02-04T02:35:38.625554Z",
     "iopub.status.busy": "2022-02-04T02:35:38.624865Z",
     "iopub.status.idle": "2022-02-04T02:35:40.267907Z",
     "shell.execute_reply": "2022-02-04T02:35:40.267164Z",
     "shell.execute_reply.started": "2022-02-04T01:56:00.372130Z"
    },
    "id": "6a212ce3",
    "papermill": {
     "duration": 1.68327,
     "end_time": "2022-02-04T02:35:40.268100",
     "exception": false,
     "start_time": "2022-02-04T02:35:38.584830",
     "status": "completed"
    },
    "tags": []
   },
   "outputs": [],
   "source": [
    "import numpy as np \n",
    "import pandas as pd \n",
    "import matplotlib.pyplot as plt\n",
    "import seaborn as sns        \n",
    "from sklearn.preprocessing import StandardScaler\n",
    "from sklearn.model_selection import train_test_split\n",
    "from sklearn.linear_model import LogisticRegression\n",
    "from sklearn.metrics import f1_score, accuracy_score, confusion_matrix\n",
    "from sklearn.utils import resample\n",
    "from sklearn.ensemble import RandomForestClassifier\n",
    "import warnings\n",
    "warnings.filterwarnings(\"ignore\")"
   ]
  },
  {
   "cell_type": "code",
   "execution_count": 2,
   "id": "1hfcQ4G7Ctuj",
   "metadata": {
    "colab": {
     "base_uri": "https://localhost:8080/"
    },
    "id": "1hfcQ4G7Ctuj",
    "outputId": "f67f1bb1-d748-41bd-c71e-45d15fd607d7"
   },
   "outputs": [
    {
     "name": "stdout",
     "output_type": "stream",
     "text": [
      "Mounted at /content/drive\n"
     ]
    }
   ],
   "source": [
    "from google.colab import drive\n",
    "drive.mount('/content/drive')"
   ]
  },
  {
   "cell_type": "markdown",
   "id": "d33eca6f",
   "metadata": {
    "id": "d33eca6f",
    "papermill": {
     "duration": 0.029976,
     "end_time": "2022-02-04T02:35:40.327531",
     "exception": false,
     "start_time": "2022-02-04T02:35:40.297555",
     "status": "completed"
    },
    "tags": []
   },
   "source": [
    "##### Load the dataset"
   ]
  },
  {
   "cell_type": "code",
   "execution_count": 3,
   "id": "9d187eb3",
   "metadata": {
    "execution": {
     "iopub.execute_input": "2022-02-04T02:35:40.390330Z",
     "iopub.status.busy": "2022-02-04T02:35:40.389539Z",
     "iopub.status.idle": "2022-02-04T02:36:00.328305Z",
     "shell.execute_reply": "2022-02-04T02:36:00.329344Z",
     "shell.execute_reply.started": "2022-02-04T01:56:02.014357Z"
    },
    "id": "9d187eb3",
    "papermill": {
     "duration": 19.973232,
     "end_time": "2022-02-04T02:36:00.329523",
     "exception": false,
     "start_time": "2022-02-04T02:35:40.356291",
     "status": "completed"
    },
    "tags": []
   },
   "outputs": [],
   "source": [
    "data = pd.read_csv(\"/content/drive/MyDrive/Fraud Detection/fraud_data.csv\")"
   ]
  },
  {
   "cell_type": "code",
   "execution_count": 4,
   "id": "y7ZfZTDsCoh5",
   "metadata": {
    "colab": {
     "base_uri": "https://localhost:8080/",
     "height": 270
    },
    "id": "y7ZfZTDsCoh5",
    "outputId": "673a03cf-4529-47af-b25a-185101fbdc86"
   },
   "outputs": [
    {
     "data": {
      "text/html": [
       "\n",
       "  <div id=\"df-993abcd3-f27e-46d8-9f5d-650a4c9beb5d\">\n",
       "    <div class=\"colab-df-container\">\n",
       "      <div>\n",
       "<style scoped>\n",
       "    .dataframe tbody tr th:only-of-type {\n",
       "        vertical-align: middle;\n",
       "    }\n",
       "\n",
       "    .dataframe tbody tr th {\n",
       "        vertical-align: top;\n",
       "    }\n",
       "\n",
       "    .dataframe thead th {\n",
       "        text-align: right;\n",
       "    }\n",
       "</style>\n",
       "<table border=\"1\" class=\"dataframe\">\n",
       "  <thead>\n",
       "    <tr style=\"text-align: right;\">\n",
       "      <th></th>\n",
       "      <th>step</th>\n",
       "      <th>type</th>\n",
       "      <th>amount</th>\n",
       "      <th>nameOrig</th>\n",
       "      <th>oldbalanceOrg</th>\n",
       "      <th>newbalanceOrig</th>\n",
       "      <th>nameDest</th>\n",
       "      <th>oldbalanceDest</th>\n",
       "      <th>newbalanceDest</th>\n",
       "      <th>isFraud</th>\n",
       "      <th>isFlaggedFraud</th>\n",
       "    </tr>\n",
       "  </thead>\n",
       "  <tbody>\n",
       "    <tr>\n",
       "      <th>0</th>\n",
       "      <td>1</td>\n",
       "      <td>PAYMENT</td>\n",
       "      <td>9839.64</td>\n",
       "      <td>C1231006815</td>\n",
       "      <td>170136.0</td>\n",
       "      <td>160296.36</td>\n",
       "      <td>M1979787155</td>\n",
       "      <td>0.0</td>\n",
       "      <td>0.0</td>\n",
       "      <td>0</td>\n",
       "      <td>0</td>\n",
       "    </tr>\n",
       "    <tr>\n",
       "      <th>1</th>\n",
       "      <td>1</td>\n",
       "      <td>PAYMENT</td>\n",
       "      <td>1864.28</td>\n",
       "      <td>C1666544295</td>\n",
       "      <td>21249.0</td>\n",
       "      <td>19384.72</td>\n",
       "      <td>M2044282225</td>\n",
       "      <td>0.0</td>\n",
       "      <td>0.0</td>\n",
       "      <td>0</td>\n",
       "      <td>0</td>\n",
       "    </tr>\n",
       "    <tr>\n",
       "      <th>2</th>\n",
       "      <td>1</td>\n",
       "      <td>TRANSFER</td>\n",
       "      <td>181.00</td>\n",
       "      <td>C1305486145</td>\n",
       "      <td>181.0</td>\n",
       "      <td>0.00</td>\n",
       "      <td>C553264065</td>\n",
       "      <td>0.0</td>\n",
       "      <td>0.0</td>\n",
       "      <td>1</td>\n",
       "      <td>0</td>\n",
       "    </tr>\n",
       "    <tr>\n",
       "      <th>3</th>\n",
       "      <td>1</td>\n",
       "      <td>CASH_OUT</td>\n",
       "      <td>181.00</td>\n",
       "      <td>C840083671</td>\n",
       "      <td>181.0</td>\n",
       "      <td>0.00</td>\n",
       "      <td>C38997010</td>\n",
       "      <td>21182.0</td>\n",
       "      <td>0.0</td>\n",
       "      <td>1</td>\n",
       "      <td>0</td>\n",
       "    </tr>\n",
       "    <tr>\n",
       "      <th>4</th>\n",
       "      <td>1</td>\n",
       "      <td>PAYMENT</td>\n",
       "      <td>11668.14</td>\n",
       "      <td>C2048537720</td>\n",
       "      <td>41554.0</td>\n",
       "      <td>29885.86</td>\n",
       "      <td>M1230701703</td>\n",
       "      <td>0.0</td>\n",
       "      <td>0.0</td>\n",
       "      <td>0</td>\n",
       "      <td>0</td>\n",
       "    </tr>\n",
       "  </tbody>\n",
       "</table>\n",
       "</div>\n",
       "      <button class=\"colab-df-convert\" onclick=\"convertToInteractive('df-993abcd3-f27e-46d8-9f5d-650a4c9beb5d')\"\n",
       "              title=\"Convert this dataframe to an interactive table.\"\n",
       "              style=\"display:none;\">\n",
       "        \n",
       "  <svg xmlns=\"http://www.w3.org/2000/svg\" height=\"24px\"viewBox=\"0 0 24 24\"\n",
       "       width=\"24px\">\n",
       "    <path d=\"M0 0h24v24H0V0z\" fill=\"none\"/>\n",
       "    <path d=\"M18.56 5.44l.94 2.06.94-2.06 2.06-.94-2.06-.94-.94-2.06-.94 2.06-2.06.94zm-11 1L8.5 8.5l.94-2.06 2.06-.94-2.06-.94L8.5 2.5l-.94 2.06-2.06.94zm10 10l.94 2.06.94-2.06 2.06-.94-2.06-.94-.94-2.06-.94 2.06-2.06.94z\"/><path d=\"M17.41 7.96l-1.37-1.37c-.4-.4-.92-.59-1.43-.59-.52 0-1.04.2-1.43.59L10.3 9.45l-7.72 7.72c-.78.78-.78 2.05 0 2.83L4 21.41c.39.39.9.59 1.41.59.51 0 1.02-.2 1.41-.59l7.78-7.78 2.81-2.81c.8-.78.8-2.07 0-2.86zM5.41 20L4 18.59l7.72-7.72 1.47 1.35L5.41 20z\"/>\n",
       "  </svg>\n",
       "      </button>\n",
       "      \n",
       "  <style>\n",
       "    .colab-df-container {\n",
       "      display:flex;\n",
       "      flex-wrap:wrap;\n",
       "      gap: 12px;\n",
       "    }\n",
       "\n",
       "    .colab-df-convert {\n",
       "      background-color: #E8F0FE;\n",
       "      border: none;\n",
       "      border-radius: 50%;\n",
       "      cursor: pointer;\n",
       "      display: none;\n",
       "      fill: #1967D2;\n",
       "      height: 32px;\n",
       "      padding: 0 0 0 0;\n",
       "      width: 32px;\n",
       "    }\n",
       "\n",
       "    .colab-df-convert:hover {\n",
       "      background-color: #E2EBFA;\n",
       "      box-shadow: 0px 1px 2px rgba(60, 64, 67, 0.3), 0px 1px 3px 1px rgba(60, 64, 67, 0.15);\n",
       "      fill: #174EA6;\n",
       "    }\n",
       "\n",
       "    [theme=dark] .colab-df-convert {\n",
       "      background-color: #3B4455;\n",
       "      fill: #D2E3FC;\n",
       "    }\n",
       "\n",
       "    [theme=dark] .colab-df-convert:hover {\n",
       "      background-color: #434B5C;\n",
       "      box-shadow: 0px 1px 3px 1px rgba(0, 0, 0, 0.15);\n",
       "      filter: drop-shadow(0px 1px 2px rgba(0, 0, 0, 0.3));\n",
       "      fill: #FFFFFF;\n",
       "    }\n",
       "  </style>\n",
       "\n",
       "      <script>\n",
       "        const buttonEl =\n",
       "          document.querySelector('#df-993abcd3-f27e-46d8-9f5d-650a4c9beb5d button.colab-df-convert');\n",
       "        buttonEl.style.display =\n",
       "          google.colab.kernel.accessAllowed ? 'block' : 'none';\n",
       "\n",
       "        async function convertToInteractive(key) {\n",
       "          const element = document.querySelector('#df-993abcd3-f27e-46d8-9f5d-650a4c9beb5d');\n",
       "          const dataTable =\n",
       "            await google.colab.kernel.invokeFunction('convertToInteractive',\n",
       "                                                     [key], {});\n",
       "          if (!dataTable) return;\n",
       "\n",
       "          const docLinkHtml = 'Like what you see? Visit the ' +\n",
       "            '<a target=\"_blank\" href=https://colab.research.google.com/notebooks/data_table.ipynb>data table notebook</a>'\n",
       "            + ' to learn more about interactive tables.';\n",
       "          element.innerHTML = '';\n",
       "          dataTable['output_type'] = 'display_data';\n",
       "          await google.colab.output.renderOutput(dataTable, element);\n",
       "          const docLink = document.createElement('div');\n",
       "          docLink.innerHTML = docLinkHtml;\n",
       "          element.appendChild(docLink);\n",
       "        }\n",
       "      </script>\n",
       "    </div>\n",
       "  </div>\n",
       "  "
      ],
      "text/plain": [
       "   step      type    amount     nameOrig  oldbalanceOrg  newbalanceOrig  \\\n",
       "0     1   PAYMENT   9839.64  C1231006815       170136.0       160296.36   \n",
       "1     1   PAYMENT   1864.28  C1666544295        21249.0        19384.72   \n",
       "2     1  TRANSFER    181.00  C1305486145          181.0            0.00   \n",
       "3     1  CASH_OUT    181.00   C840083671          181.0            0.00   \n",
       "4     1   PAYMENT  11668.14  C2048537720        41554.0        29885.86   \n",
       "\n",
       "      nameDest  oldbalanceDest  newbalanceDest  isFraud  isFlaggedFraud  \n",
       "0  M1979787155             0.0             0.0        0               0  \n",
       "1  M2044282225             0.0             0.0        0               0  \n",
       "2   C553264065             0.0             0.0        1               0  \n",
       "3    C38997010         21182.0             0.0        1               0  \n",
       "4  M1230701703             0.0             0.0        0               0  "
      ]
     },
     "execution_count": 4,
     "metadata": {},
     "output_type": "execute_result"
    }
   ],
   "source": [
    "data.head()"
   ]
  },
  {
   "cell_type": "code",
   "execution_count": 5,
   "id": "796c699f",
   "metadata": {
    "colab": {
     "base_uri": "https://localhost:8080/",
     "height": 270
    },
    "id": "796c699f",
    "outputId": "dc13b9cd-a522-48a7-80d5-e1007328deea"
   },
   "outputs": [
    {
     "data": {
      "text/html": [
       "\n",
       "  <div id=\"df-3d5a5112-6b7c-47b5-8d30-2847b899222b\">\n",
       "    <div class=\"colab-df-container\">\n",
       "      <div>\n",
       "<style scoped>\n",
       "    .dataframe tbody tr th:only-of-type {\n",
       "        vertical-align: middle;\n",
       "    }\n",
       "\n",
       "    .dataframe tbody tr th {\n",
       "        vertical-align: top;\n",
       "    }\n",
       "\n",
       "    .dataframe thead th {\n",
       "        text-align: right;\n",
       "    }\n",
       "</style>\n",
       "<table border=\"1\" class=\"dataframe\">\n",
       "  <thead>\n",
       "    <tr style=\"text-align: right;\">\n",
       "      <th></th>\n",
       "      <th>step</th>\n",
       "      <th>type</th>\n",
       "      <th>amount</th>\n",
       "      <th>nameOrig</th>\n",
       "      <th>oldbalanceOrg</th>\n",
       "      <th>newbalanceOrig</th>\n",
       "      <th>nameDest</th>\n",
       "      <th>oldbalanceDest</th>\n",
       "      <th>newbalanceDest</th>\n",
       "      <th>isFraud</th>\n",
       "      <th>isFlaggedFraud</th>\n",
       "    </tr>\n",
       "  </thead>\n",
       "  <tbody>\n",
       "    <tr>\n",
       "      <th>6362615</th>\n",
       "      <td>743</td>\n",
       "      <td>CASH_OUT</td>\n",
       "      <td>339682.13</td>\n",
       "      <td>C786484425</td>\n",
       "      <td>339682.13</td>\n",
       "      <td>0.0</td>\n",
       "      <td>C776919290</td>\n",
       "      <td>0.00</td>\n",
       "      <td>339682.13</td>\n",
       "      <td>1</td>\n",
       "      <td>0</td>\n",
       "    </tr>\n",
       "    <tr>\n",
       "      <th>6362616</th>\n",
       "      <td>743</td>\n",
       "      <td>TRANSFER</td>\n",
       "      <td>6311409.28</td>\n",
       "      <td>C1529008245</td>\n",
       "      <td>6311409.28</td>\n",
       "      <td>0.0</td>\n",
       "      <td>C1881841831</td>\n",
       "      <td>0.00</td>\n",
       "      <td>0.00</td>\n",
       "      <td>1</td>\n",
       "      <td>0</td>\n",
       "    </tr>\n",
       "    <tr>\n",
       "      <th>6362617</th>\n",
       "      <td>743</td>\n",
       "      <td>CASH_OUT</td>\n",
       "      <td>6311409.28</td>\n",
       "      <td>C1162922333</td>\n",
       "      <td>6311409.28</td>\n",
       "      <td>0.0</td>\n",
       "      <td>C1365125890</td>\n",
       "      <td>68488.84</td>\n",
       "      <td>6379898.11</td>\n",
       "      <td>1</td>\n",
       "      <td>0</td>\n",
       "    </tr>\n",
       "    <tr>\n",
       "      <th>6362618</th>\n",
       "      <td>743</td>\n",
       "      <td>TRANSFER</td>\n",
       "      <td>850002.52</td>\n",
       "      <td>C1685995037</td>\n",
       "      <td>850002.52</td>\n",
       "      <td>0.0</td>\n",
       "      <td>C2080388513</td>\n",
       "      <td>0.00</td>\n",
       "      <td>0.00</td>\n",
       "      <td>1</td>\n",
       "      <td>0</td>\n",
       "    </tr>\n",
       "    <tr>\n",
       "      <th>6362619</th>\n",
       "      <td>743</td>\n",
       "      <td>CASH_OUT</td>\n",
       "      <td>850002.52</td>\n",
       "      <td>C1280323807</td>\n",
       "      <td>850002.52</td>\n",
       "      <td>0.0</td>\n",
       "      <td>C873221189</td>\n",
       "      <td>6510099.11</td>\n",
       "      <td>7360101.63</td>\n",
       "      <td>1</td>\n",
       "      <td>0</td>\n",
       "    </tr>\n",
       "  </tbody>\n",
       "</table>\n",
       "</div>\n",
       "      <button class=\"colab-df-convert\" onclick=\"convertToInteractive('df-3d5a5112-6b7c-47b5-8d30-2847b899222b')\"\n",
       "              title=\"Convert this dataframe to an interactive table.\"\n",
       "              style=\"display:none;\">\n",
       "        \n",
       "  <svg xmlns=\"http://www.w3.org/2000/svg\" height=\"24px\"viewBox=\"0 0 24 24\"\n",
       "       width=\"24px\">\n",
       "    <path d=\"M0 0h24v24H0V0z\" fill=\"none\"/>\n",
       "    <path d=\"M18.56 5.44l.94 2.06.94-2.06 2.06-.94-2.06-.94-.94-2.06-.94 2.06-2.06.94zm-11 1L8.5 8.5l.94-2.06 2.06-.94-2.06-.94L8.5 2.5l-.94 2.06-2.06.94zm10 10l.94 2.06.94-2.06 2.06-.94-2.06-.94-.94-2.06-.94 2.06-2.06.94z\"/><path d=\"M17.41 7.96l-1.37-1.37c-.4-.4-.92-.59-1.43-.59-.52 0-1.04.2-1.43.59L10.3 9.45l-7.72 7.72c-.78.78-.78 2.05 0 2.83L4 21.41c.39.39.9.59 1.41.59.51 0 1.02-.2 1.41-.59l7.78-7.78 2.81-2.81c.8-.78.8-2.07 0-2.86zM5.41 20L4 18.59l7.72-7.72 1.47 1.35L5.41 20z\"/>\n",
       "  </svg>\n",
       "      </button>\n",
       "      \n",
       "  <style>\n",
       "    .colab-df-container {\n",
       "      display:flex;\n",
       "      flex-wrap:wrap;\n",
       "      gap: 12px;\n",
       "    }\n",
       "\n",
       "    .colab-df-convert {\n",
       "      background-color: #E8F0FE;\n",
       "      border: none;\n",
       "      border-radius: 50%;\n",
       "      cursor: pointer;\n",
       "      display: none;\n",
       "      fill: #1967D2;\n",
       "      height: 32px;\n",
       "      padding: 0 0 0 0;\n",
       "      width: 32px;\n",
       "    }\n",
       "\n",
       "    .colab-df-convert:hover {\n",
       "      background-color: #E2EBFA;\n",
       "      box-shadow: 0px 1px 2px rgba(60, 64, 67, 0.3), 0px 1px 3px 1px rgba(60, 64, 67, 0.15);\n",
       "      fill: #174EA6;\n",
       "    }\n",
       "\n",
       "    [theme=dark] .colab-df-convert {\n",
       "      background-color: #3B4455;\n",
       "      fill: #D2E3FC;\n",
       "    }\n",
       "\n",
       "    [theme=dark] .colab-df-convert:hover {\n",
       "      background-color: #434B5C;\n",
       "      box-shadow: 0px 1px 3px 1px rgba(0, 0, 0, 0.15);\n",
       "      filter: drop-shadow(0px 1px 2px rgba(0, 0, 0, 0.3));\n",
       "      fill: #FFFFFF;\n",
       "    }\n",
       "  </style>\n",
       "\n",
       "      <script>\n",
       "        const buttonEl =\n",
       "          document.querySelector('#df-3d5a5112-6b7c-47b5-8d30-2847b899222b button.colab-df-convert');\n",
       "        buttonEl.style.display =\n",
       "          google.colab.kernel.accessAllowed ? 'block' : 'none';\n",
       "\n",
       "        async function convertToInteractive(key) {\n",
       "          const element = document.querySelector('#df-3d5a5112-6b7c-47b5-8d30-2847b899222b');\n",
       "          const dataTable =\n",
       "            await google.colab.kernel.invokeFunction('convertToInteractive',\n",
       "                                                     [key], {});\n",
       "          if (!dataTable) return;\n",
       "\n",
       "          const docLinkHtml = 'Like what you see? Visit the ' +\n",
       "            '<a target=\"_blank\" href=https://colab.research.google.com/notebooks/data_table.ipynb>data table notebook</a>'\n",
       "            + ' to learn more about interactive tables.';\n",
       "          element.innerHTML = '';\n",
       "          dataTable['output_type'] = 'display_data';\n",
       "          await google.colab.output.renderOutput(dataTable, element);\n",
       "          const docLink = document.createElement('div');\n",
       "          docLink.innerHTML = docLinkHtml;\n",
       "          element.appendChild(docLink);\n",
       "        }\n",
       "      </script>\n",
       "    </div>\n",
       "  </div>\n",
       "  "
      ],
      "text/plain": [
       "         step      type      amount     nameOrig  oldbalanceOrg  \\\n",
       "6362615   743  CASH_OUT   339682.13   C786484425      339682.13   \n",
       "6362616   743  TRANSFER  6311409.28  C1529008245     6311409.28   \n",
       "6362617   743  CASH_OUT  6311409.28  C1162922333     6311409.28   \n",
       "6362618   743  TRANSFER   850002.52  C1685995037      850002.52   \n",
       "6362619   743  CASH_OUT   850002.52  C1280323807      850002.52   \n",
       "\n",
       "         newbalanceOrig     nameDest  oldbalanceDest  newbalanceDest  isFraud  \\\n",
       "6362615             0.0   C776919290            0.00       339682.13        1   \n",
       "6362616             0.0  C1881841831            0.00            0.00        1   \n",
       "6362617             0.0  C1365125890        68488.84      6379898.11        1   \n",
       "6362618             0.0  C2080388513            0.00            0.00        1   \n",
       "6362619             0.0   C873221189      6510099.11      7360101.63        1   \n",
       "\n",
       "         isFlaggedFraud  \n",
       "6362615               0  \n",
       "6362616               0  \n",
       "6362617               0  \n",
       "6362618               0  \n",
       "6362619               0  "
      ]
     },
     "execution_count": 5,
     "metadata": {},
     "output_type": "execute_result"
    }
   ],
   "source": [
    "data.tail()"
   ]
  },
  {
   "cell_type": "markdown",
   "id": "57c12210",
   "metadata": {
    "id": "57c12210",
    "papermill": {
     "duration": 0.028305,
     "end_time": "2022-02-04T02:36:00.386336",
     "exception": false,
     "start_time": "2022-02-04T02:36:00.358031",
     "status": "completed"
    },
    "tags": []
   },
   "source": [
    "#### Exploratory Data Analysis"
   ]
  },
  {
   "cell_type": "code",
   "execution_count": 6,
   "id": "d968a4fe",
   "metadata": {
    "colab": {
     "base_uri": "https://localhost:8080/"
    },
    "execution": {
     "iopub.execute_input": "2022-02-04T02:36:00.451324Z",
     "iopub.status.busy": "2022-02-04T02:36:00.450608Z",
     "iopub.status.idle": "2022-02-04T02:36:00.455130Z",
     "shell.execute_reply": "2022-02-04T02:36:00.455747Z",
     "shell.execute_reply.started": "2022-02-04T01:56:25.730483Z"
    },
    "id": "d968a4fe",
    "outputId": "00f4a1ac-de4c-454a-b846-cb9c50c5200a",
    "papermill": {
     "duration": 0.040841,
     "end_time": "2022-02-04T02:36:00.455930",
     "exception": false,
     "start_time": "2022-02-04T02:36:00.415089",
     "status": "completed"
    },
    "tags": []
   },
   "outputs": [
    {
     "name": "stdout",
     "output_type": "stream",
     "text": [
      "Number of records:\t\t 6362620\n",
      "Number of features per record:\t 11\n"
     ]
    }
   ],
   "source": [
    "print(\"Number of records:\\t\\t\",data.shape[0])\n",
    "print(\"Number of features per record:\\t\",data.shape[1])"
   ]
  },
  {
   "cell_type": "code",
   "execution_count": 7,
   "id": "90cf4932",
   "metadata": {
    "colab": {
     "base_uri": "https://localhost:8080/"
    },
    "execution": {
     "iopub.execute_input": "2022-02-04T02:36:00.522515Z",
     "iopub.status.busy": "2022-02-04T02:36:00.521747Z",
     "iopub.status.idle": "2022-02-04T02:36:02.670510Z",
     "shell.execute_reply": "2022-02-04T02:36:02.669354Z",
     "shell.execute_reply.started": "2022-02-04T01:56:26.263899Z"
    },
    "id": "90cf4932",
    "outputId": "3d9b6453-0b36-433f-d94c-9e73993ca583",
    "papermill": {
     "duration": 2.184979,
     "end_time": "2022-02-04T02:36:02.670742",
     "exception": false,
     "start_time": "2022-02-04T02:36:00.485763",
     "status": "completed"
    },
    "tags": []
   },
   "outputs": [
    {
     "name": "stdout",
     "output_type": "stream",
     "text": [
      "Any missing data?\n",
      "True or False :  False\n"
     ]
    }
   ],
   "source": [
    "print(\"Any missing data?\\nTrue or False : \",data.isnull().sum().any())"
   ]
  },
  {
   "cell_type": "code",
   "execution_count": 9,
   "id": "e2f333d7",
   "metadata": {
    "colab": {
     "base_uri": "https://localhost:8080/"
    },
    "execution": {
     "iopub.execute_input": "2022-02-04T02:36:02.744689Z",
     "iopub.status.busy": "2022-02-04T02:36:02.737525Z",
     "iopub.status.idle": "2022-02-04T02:36:02.929597Z",
     "shell.execute_reply": "2022-02-04T02:36:02.930123Z",
     "shell.execute_reply.started": "2022-02-04T01:56:27.154739Z"
    },
    "id": "e2f333d7",
    "outputId": "dda24829-e338-4de5-e46a-8d3875b43cb0",
    "papermill": {
     "duration": 0.226516,
     "end_time": "2022-02-04T02:36:02.930335",
     "exception": false,
     "start_time": "2022-02-04T02:36:02.703819",
     "status": "completed"
    },
    "tags": []
   },
   "outputs": [
    {
     "data": {
      "text/plain": [
       "0    6354407\n",
       "1       8213\n",
       "Name: isFraud, dtype: int64"
      ]
     },
     "execution_count": 9,
     "metadata": {},
     "output_type": "execute_result"
    }
   ],
   "source": [
    "data.isFraud.value_counts()"
   ]
  },
  {
   "cell_type": "code",
   "execution_count": 11,
   "id": "9ae5fb8c",
   "metadata": {
    "colab": {
     "base_uri": "https://localhost:8080/"
    },
    "execution": {
     "iopub.execute_input": "2022-02-04T02:36:03.422849Z",
     "iopub.status.busy": "2022-02-04T02:36:03.421759Z",
     "iopub.status.idle": "2022-02-04T02:36:03.660816Z",
     "shell.execute_reply": "2022-02-04T02:36:03.661395Z",
     "shell.execute_reply.started": "2022-02-04T01:57:01.810938Z"
    },
    "id": "9ae5fb8c",
    "outputId": "8de230f3-1392-4784-9383-ac4f423659ff",
    "papermill": {
     "duration": 0.2835,
     "end_time": "2022-02-04T02:36:03.661578",
     "exception": false,
     "start_time": "2022-02-04T02:36:03.378078",
     "status": "completed"
    },
    "tags": []
   },
   "outputs": [
    {
     "name": "stdout",
     "output_type": "stream",
     "text": [
      "Any transaction with amount less than or equal to 0?\n",
      "16\n",
      "What type of transactions are they?\n",
      "CASH_OUT\n"
     ]
    }
   ],
   "source": [
    "print(\"Any transaction with amount less than or equal to 0?\")\n",
    "print(len(data[data.amount<=0]))\n",
    "print(\"What type of transactions are they?\")\n",
    "print(data[data.amount<=0]['type'].value_counts().index[0])"
   ]
  },
  {
   "cell_type": "markdown",
   "id": "7e335fd0",
   "metadata": {
    "id": "7e335fd0",
    "papermill": {
     "duration": 0.033855,
     "end_time": "2022-02-04T02:36:04.627388",
     "exception": false,
     "start_time": "2022-02-04T02:36:04.593533",
     "status": "completed"
    },
    "tags": []
   },
   "source": [
    "## Data Visualization"
   ]
  },
  {
   "cell_type": "code",
   "execution_count": 12,
   "id": "2d06f9d2",
   "metadata": {
    "colab": {
     "base_uri": "https://localhost:8080/",
     "height": 482
    },
    "execution": {
     "iopub.execute_input": "2022-02-04T02:36:04.700521Z",
     "iopub.status.busy": "2022-02-04T02:36:04.699465Z",
     "iopub.status.idle": "2022-02-04T02:36:05.755507Z",
     "shell.execute_reply": "2022-02-04T02:36:05.756272Z",
     "shell.execute_reply.started": "2022-02-04T01:57:10.122144Z"
    },
    "id": "2d06f9d2",
    "outputId": "63098b7c-a4a8-4fae-f8c4-b77d8c935f86",
    "papermill": {
     "duration": 1.095071,
     "end_time": "2022-02-04T02:36:05.756475",
     "exception": false,
     "start_time": "2022-02-04T02:36:04.661404",
     "status": "completed"
    },
    "tags": []
   },
   "outputs": [
    {
     "data": {
      "image/png": "[encoded data removed]",
      "text/plain": [
       "<Figure size 720x576 with 1 Axes>"
      ]
     },
     "metadata": {},
     "output_type": "display_data"
    }
   ],
   "source": [
    "#create pie chart\n",
    "plt.figure(figsize=(10,8))\n",
    "plt.pie(data.type.value_counts().values,labels=data.type.value_counts().index,  autopct='%.0f%%')\n",
    "plt.title(\"Transaction Type\")\n",
    "plt.show()"
   ]
  },
  {
   "cell_type": "markdown",
   "id": "404b82da",
   "metadata": {
    "execution": {
     "iopub.execute_input": "2022-02-04T01:01:56.191149Z",
     "iopub.status.busy": "2022-02-04T01:01:56.190424Z",
     "iopub.status.idle": "2022-02-04T01:01:56.195623Z",
     "shell.execute_reply": "2022-02-04T01:01:56.194979Z",
     "shell.execute_reply.started": "2022-02-04T01:01:56.191103Z"
    },
    "id": "404b82da",
    "papermill": {
     "duration": 0.037572,
     "end_time": "2022-02-04T02:36:06.831044",
     "exception": false,
     "start_time": "2022-02-04T02:36:06.793472",
     "status": "completed"
    },
    "tags": []
   },
   "source": [
    "#### Delete unwanted features (Remove isFlaggedFraud and keep isFraud as target feature)"
   ]
  },
  {
   "cell_type": "code",
   "execution_count": 13,
   "id": "e28ace62",
   "metadata": {
    "colab": {
     "base_uri": "https://localhost:8080/",
     "height": 270
    },
    "id": "e28ace62",
    "outputId": "29b31f72-1982-443a-c640-2b5ab75f04da"
   },
   "outputs": [
    {
     "data": {
      "text/html": [
       "\n",
       "  <div id=\"df-8112d0b8-9e9c-4e27-9f4c-819e318eaccd\">\n",
       "    <div class=\"colab-df-container\">\n",
       "      <div>\n",
       "<style scoped>\n",
       "    .dataframe tbody tr th:only-of-type {\n",
       "        vertical-align: middle;\n",
       "    }\n",
       "\n",
       "    .dataframe tbody tr th {\n",
       "        vertical-align: top;\n",
       "    }\n",
       "\n",
       "    .dataframe thead th {\n",
       "        text-align: right;\n",
       "    }\n",
       "</style>\n",
       "<table border=\"1\" class=\"dataframe\">\n",
       "  <thead>\n",
       "    <tr style=\"text-align: right;\">\n",
       "      <th></th>\n",
       "      <th>step</th>\n",
       "      <th>type</th>\n",
       "      <th>amount</th>\n",
       "      <th>nameOrig</th>\n",
       "      <th>oldbalanceOrg</th>\n",
       "      <th>newbalanceOrig</th>\n",
       "      <th>nameDest</th>\n",
       "      <th>oldbalanceDest</th>\n",
       "      <th>newbalanceDest</th>\n",
       "      <th>isFraud</th>\n",
       "      <th>isFlaggedFraud</th>\n",
       "    </tr>\n",
       "  </thead>\n",
       "  <tbody>\n",
       "    <tr>\n",
       "      <th>0</th>\n",
       "      <td>1</td>\n",
       "      <td>PAYMENT</td>\n",
       "      <td>9839.64</td>\n",
       "      <td>C1231006815</td>\n",
       "      <td>170136.0</td>\n",
       "      <td>160296.36</td>\n",
       "      <td>M1979787155</td>\n",
       "      <td>0.0</td>\n",
       "      <td>0.0</td>\n",
       "      <td>0</td>\n",
       "      <td>0</td>\n",
       "    </tr>\n",
       "    <tr>\n",
       "      <th>1</th>\n",
       "      <td>1</td>\n",
       "      <td>PAYMENT</td>\n",
       "      <td>1864.28</td>\n",
       "      <td>C1666544295</td>\n",
       "      <td>21249.0</td>\n",
       "      <td>19384.72</td>\n",
       "      <td>M2044282225</td>\n",
       "      <td>0.0</td>\n",
       "      <td>0.0</td>\n",
       "      <td>0</td>\n",
       "      <td>0</td>\n",
       "    </tr>\n",
       "    <tr>\n",
       "      <th>2</th>\n",
       "      <td>1</td>\n",
       "      <td>TRANSFER</td>\n",
       "      <td>181.00</td>\n",
       "      <td>C1305486145</td>\n",
       "      <td>181.0</td>\n",
       "      <td>0.00</td>\n",
       "      <td>C553264065</td>\n",
       "      <td>0.0</td>\n",
       "      <td>0.0</td>\n",
       "      <td>1</td>\n",
       "      <td>0</td>\n",
       "    </tr>\n",
       "    <tr>\n",
       "      <th>3</th>\n",
       "      <td>1</td>\n",
       "      <td>CASH_OUT</td>\n",
       "      <td>181.00</td>\n",
       "      <td>C840083671</td>\n",
       "      <td>181.0</td>\n",
       "      <td>0.00</td>\n",
       "      <td>C38997010</td>\n",
       "      <td>21182.0</td>\n",
       "      <td>0.0</td>\n",
       "      <td>1</td>\n",
       "      <td>0</td>\n",
       "    </tr>\n",
       "    <tr>\n",
       "      <th>4</th>\n",
       "      <td>1</td>\n",
       "      <td>PAYMENT</td>\n",
       "      <td>11668.14</td>\n",
       "      <td>C2048537720</td>\n",
       "      <td>41554.0</td>\n",
       "      <td>29885.86</td>\n",
       "      <td>M1230701703</td>\n",
       "      <td>0.0</td>\n",
       "      <td>0.0</td>\n",
       "      <td>0</td>\n",
       "      <td>0</td>\n",
       "    </tr>\n",
       "  </tbody>\n",
       "</table>\n",
       "</div>\n",
       "      <button class=\"colab-df-convert\" onclick=\"convertToInteractive('df-8112d0b8-9e9c-4e27-9f4c-819e318eaccd')\"\n",
       "              title=\"Convert this dataframe to an interactive table.\"\n",
       "              style=\"display:none;\">\n",
       "        \n",
       "  <svg xmlns=\"http://www.w3.org/2000/svg\" height=\"24px\"viewBox=\"0 0 24 24\"\n",
       "       width=\"24px\">\n",
       "    <path d=\"M0 0h24v24H0V0z\" fill=\"none\"/>\n",
       "    <path d=\"M18.56 5.44l.94 2.06.94-2.06 2.06-.94-2.06-.94-.94-2.06-.94 2.06-2.06.94zm-11 1L8.5 8.5l.94-2.06 2.06-.94-2.06-.94L8.5 2.5l-.94 2.06-2.06.94zm10 10l.94 2.06.94-2.06 2.06-.94-2.06-.94-.94-2.06-.94 2.06-2.06.94z\"/><path d=\"M17.41 7.96l-1.37-1.37c-.4-.4-.92-.59-1.43-.59-.52 0-1.04.2-1.43.59L10.3 9.45l-7.72 7.72c-.78.78-.78 2.05 0 2.83L4 21.41c.39.39.9.59 1.41.59.51 0 1.02-.2 1.41-.59l7.78-7.78 2.81-2.81c.8-.78.8-2.07 0-2.86zM5.41 20L4 18.59l7.72-7.72 1.47 1.35L5.41 20z\"/>\n",
       "  </svg>\n",
       "      </button>\n",
       "      \n",
       "  <style>\n",
       "    .colab-df-container {\n",
       "      display:flex;\n",
       "      flex-wrap:wrap;\n",
       "      gap: 12px;\n",
       "    }\n",
       "\n",
       "    .colab-df-convert {\n",
       "      background-color: #E8F0FE;\n",
       "      border: none;\n",
       "      border-radius: 50%;\n",
       "      cursor: pointer;\n",
       "      display: none;\n",
       "      fill: #1967D2;\n",
       "      height: 32px;\n",
       "      padding: 0 0 0 0;\n",
       "      width: 32px;\n",
       "    }\n",
       "\n",
       "    .colab-df-convert:hover {\n",
       "      background-color: #E2EBFA;\n",
       "      box-shadow: 0px 1px 2px rgba(60, 64, 67, 0.3), 0px 1px 3px 1px rgba(60, 64, 67, 0.15);\n",
       "      fill: #174EA6;\n",
       "    }\n",
       "\n",
       "    [theme=dark] .colab-df-convert {\n",
       "      background-color: #3B4455;\n",
       "      fill: #D2E3FC;\n",
       "    }\n",
       "\n",
       "    [theme=dark] .colab-df-convert:hover {\n",
       "      background-color: #434B5C;\n",
       "      box-shadow: 0px 1px 3px 1px rgba(0, 0, 0, 0.15);\n",
       "      filter: drop-shadow(0px 1px 2px rgba(0, 0, 0, 0.3));\n",
       "      fill: #FFFFFF;\n",
       "    }\n",
       "  </style>\n",
       "\n",
       "      <script>\n",
       "        const buttonEl =\n",
       "          document.querySelector('#df-8112d0b8-9e9c-4e27-9f4c-819e318eaccd button.colab-df-convert');\n",
       "        buttonEl.style.display =\n",
       "          google.colab.kernel.accessAllowed ? 'block' : 'none';\n",
       "\n",
       "        async function convertToInteractive(key) {\n",
       "          const element = document.querySelector('#df-8112d0b8-9e9c-4e27-9f4c-819e318eaccd');\n",
       "          const dataTable =\n",
       "            await google.colab.kernel.invokeFunction('convertToInteractive',\n",
       "                                                     [key], {});\n",
       "          if (!dataTable) return;\n",
       "\n",
       "          const docLinkHtml = 'Like what you see? Visit the ' +\n",
       "            '<a target=\"_blank\" href=https://colab.research.google.com/notebooks/data_table.ipynb>data table notebook</a>'\n",
       "            + ' to learn more about interactive tables.';\n",
       "          element.innerHTML = '';\n",
       "          dataTable['output_type'] = 'display_data';\n",
       "          await google.colab.output.renderOutput(dataTable, element);\n",
       "          const docLink = document.createElement('div');\n",
       "          docLink.innerHTML = docLinkHtml;\n",
       "          element.appendChild(docLink);\n",
       "        }\n",
       "      </script>\n",
       "    </div>\n",
       "  </div>\n",
       "  "
      ],
      "text/plain": [
       "   step      type    amount     nameOrig  oldbalanceOrg  newbalanceOrig  \\\n",
       "0     1   PAYMENT   9839.64  C1231006815       170136.0       160296.36   \n",
       "1     1   PAYMENT   1864.28  C1666544295        21249.0        19384.72   \n",
       "2     1  TRANSFER    181.00  C1305486145          181.0            0.00   \n",
       "3     1  CASH_OUT    181.00   C840083671          181.0            0.00   \n",
       "4     1   PAYMENT  11668.14  C2048537720        41554.0        29885.86   \n",
       "\n",
       "      nameDest  oldbalanceDest  newbalanceDest  isFraud  isFlaggedFraud  \n",
       "0  M1979787155             0.0             0.0        0               0  \n",
       "1  M2044282225             0.0             0.0        0               0  \n",
       "2   C553264065             0.0             0.0        1               0  \n",
       "3    C38997010         21182.0             0.0        1               0  \n",
       "4  M1230701703             0.0             0.0        0               0  "
      ]
     },
     "execution_count": 13,
     "metadata": {},
     "output_type": "execute_result"
    }
   ],
   "source": [
    "data.head()"
   ]
  },
  {
   "cell_type": "code",
   "execution_count": 14,
   "id": "1d5b3681",
   "metadata": {
    "colab": {
     "base_uri": "https://localhost:8080/",
     "height": 206
    },
    "execution": {
     "iopub.execute_input": "2022-02-04T02:36:06.910585Z",
     "iopub.status.busy": "2022-02-04T02:36:06.909850Z",
     "iopub.status.idle": "2022-02-04T02:36:06.967694Z",
     "shell.execute_reply": "2022-02-04T02:36:06.968353Z",
     "shell.execute_reply.started": "2022-02-04T02:00:34.153197Z"
    },
    "id": "1d5b3681",
    "outputId": "11ee432a-3808-4ab4-b3b3-4aa2acd715f3",
    "papermill": {
     "duration": 0.100418,
     "end_time": "2022-02-04T02:36:06.968537",
     "exception": false,
     "start_time": "2022-02-04T02:36:06.868119",
     "status": "completed"
    },
    "tags": []
   },
   "outputs": [
    {
     "data": {
      "text/html": [
       "\n",
       "  <div id=\"df-8a982053-93d1-43ec-810b-e3e6143352fc\">\n",
       "    <div class=\"colab-df-container\">\n",
       "      <div>\n",
       "<style scoped>\n",
       "    .dataframe tbody tr th:only-of-type {\n",
       "        vertical-align: middle;\n",
       "    }\n",
       "\n",
       "    .dataframe tbody tr th {\n",
       "        vertical-align: top;\n",
       "    }\n",
       "\n",
       "    .dataframe thead th {\n",
       "        text-align: right;\n",
       "    }\n",
       "</style>\n",
       "<table border=\"1\" class=\"dataframe\">\n",
       "  <thead>\n",
       "    <tr style=\"text-align: right;\">\n",
       "      <th></th>\n",
       "      <th>type</th>\n",
       "      <th>amount</th>\n",
       "      <th>oldbalanceOrg</th>\n",
       "      <th>newbalanceOrig</th>\n",
       "      <th>isFraud</th>\n",
       "    </tr>\n",
       "  </thead>\n",
       "  <tbody>\n",
       "    <tr>\n",
       "      <th>0</th>\n",
       "      <td>PAYMENT</td>\n",
       "      <td>9839.64</td>\n",
       "      <td>170136.0</td>\n",
       "      <td>160296.36</td>\n",
       "      <td>0</td>\n",
       "    </tr>\n",
       "    <tr>\n",
       "      <th>1</th>\n",
       "      <td>PAYMENT</td>\n",
       "      <td>1864.28</td>\n",
       "      <td>21249.0</td>\n",
       "      <td>19384.72</td>\n",
       "      <td>0</td>\n",
       "    </tr>\n",
       "    <tr>\n",
       "      <th>2</th>\n",
       "      <td>TRANSFER</td>\n",
       "      <td>181.00</td>\n",
       "      <td>181.0</td>\n",
       "      <td>0.00</td>\n",
       "      <td>1</td>\n",
       "    </tr>\n",
       "    <tr>\n",
       "      <th>3</th>\n",
       "      <td>CASH_OUT</td>\n",
       "      <td>181.00</td>\n",
       "      <td>181.0</td>\n",
       "      <td>0.00</td>\n",
       "      <td>1</td>\n",
       "    </tr>\n",
       "    <tr>\n",
       "      <th>4</th>\n",
       "      <td>PAYMENT</td>\n",
       "      <td>11668.14</td>\n",
       "      <td>41554.0</td>\n",
       "      <td>29885.86</td>\n",
       "      <td>0</td>\n",
       "    </tr>\n",
       "  </tbody>\n",
       "</table>\n",
       "</div>\n",
       "      <button class=\"colab-df-convert\" onclick=\"convertToInteractive('df-8a982053-93d1-43ec-810b-e3e6143352fc')\"\n",
       "              title=\"Convert this dataframe to an interactive table.\"\n",
       "              style=\"display:none;\">\n",
       "        \n",
       "  <svg xmlns=\"http://www.w3.org/2000/svg\" height=\"24px\"viewBox=\"0 0 24 24\"\n",
       "       width=\"24px\">\n",
       "    <path d=\"M0 0h24v24H0V0z\" fill=\"none\"/>\n",
       "    <path d=\"M18.56 5.44l.94 2.06.94-2.06 2.06-.94-2.06-.94-.94-2.06-.94 2.06-2.06.94zm-11 1L8.5 8.5l.94-2.06 2.06-.94-2.06-.94L8.5 2.5l-.94 2.06-2.06.94zm10 10l.94 2.06.94-2.06 2.06-.94-2.06-.94-.94-2.06-.94 2.06-2.06.94z\"/><path d=\"M17.41 7.96l-1.37-1.37c-.4-.4-.92-.59-1.43-.59-.52 0-1.04.2-1.43.59L10.3 9.45l-7.72 7.72c-.78.78-.78 2.05 0 2.83L4 21.41c.39.39.9.59 1.41.59.51 0 1.02-.2 1.41-.59l7.78-7.78 2.81-2.81c.8-.78.8-2.07 0-2.86zM5.41 20L4 18.59l7.72-7.72 1.47 1.35L5.41 20z\"/>\n",
       "  </svg>\n",
       "      </button>\n",
       "      \n",
       "  <style>\n",
       "    .colab-df-container {\n",
       "      display:flex;\n",
       "      flex-wrap:wrap;\n",
       "      gap: 12px;\n",
       "    }\n",
       "\n",
       "    .colab-df-convert {\n",
       "      background-color: #E8F0FE;\n",
       "      border: none;\n",
       "      border-radius: 50%;\n",
       "      cursor: pointer;\n",
       "      display: none;\n",
       "      fill: #1967D2;\n",
       "      height: 32px;\n",
       "      padding: 0 0 0 0;\n",
       "      width: 32px;\n",
       "    }\n",
       "\n",
       "    .colab-df-convert:hover {\n",
       "      background-color: #E2EBFA;\n",
       "      box-shadow: 0px 1px 2px rgba(60, 64, 67, 0.3), 0px 1px 3px 1px rgba(60, 64, 67, 0.15);\n",
       "      fill: #174EA6;\n",
       "    }\n",
       "\n",
       "    [theme=dark] .colab-df-convert {\n",
       "      background-color: #3B4455;\n",
       "      fill: #D2E3FC;\n",
       "    }\n",
       "\n",
       "    [theme=dark] .colab-df-convert:hover {\n",
       "      background-color: #434B5C;\n",
       "      box-shadow: 0px 1px 3px 1px rgba(0, 0, 0, 0.15);\n",
       "      filter: drop-shadow(0px 1px 2px rgba(0, 0, 0, 0.3));\n",
       "      fill: #FFFFFF;\n",
       "    }\n",
       "  </style>\n",
       "\n",
       "      <script>\n",
       "        const buttonEl =\n",
       "          document.querySelector('#df-8a982053-93d1-43ec-810b-e3e6143352fc button.colab-df-convert');\n",
       "        buttonEl.style.display =\n",
       "          google.colab.kernel.accessAllowed ? 'block' : 'none';\n",
       "\n",
       "        async function convertToInteractive(key) {\n",
       "          const element = document.querySelector('#df-8a982053-93d1-43ec-810b-e3e6143352fc');\n",
       "          const dataTable =\n",
       "            await google.colab.kernel.invokeFunction('convertToInteractive',\n",
       "                                                     [key], {});\n",
       "          if (!dataTable) return;\n",
       "\n",
       "          const docLinkHtml = 'Like what you see? Visit the ' +\n",
       "            '<a target=\"_blank\" href=https://colab.research.google.com/notebooks/data_table.ipynb>data table notebook</a>'\n",
       "            + ' to learn more about interactive tables.';\n",
       "          element.innerHTML = '';\n",
       "          dataTable['output_type'] = 'display_data';\n",
       "          await google.colab.output.renderOutput(dataTable, element);\n",
       "          const docLink = document.createElement('div');\n",
       "          docLink.innerHTML = docLinkHtml;\n",
       "          element.appendChild(docLink);\n",
       "        }\n",
       "      </script>\n",
       "    </div>\n",
       "  </div>\n",
       "  "
      ],
      "text/plain": [
       "       type    amount  oldbalanceOrg  newbalanceOrig  isFraud\n",
       "0   PAYMENT   9839.64       170136.0       160296.36        0\n",
       "1   PAYMENT   1864.28        21249.0        19384.72        0\n",
       "2  TRANSFER    181.00          181.0            0.00        1\n",
       "3  CASH_OUT    181.00          181.0            0.00        1\n",
       "4   PAYMENT  11668.14        41554.0        29885.86        0"
      ]
     },
     "execution_count": 14,
     "metadata": {},
     "output_type": "execute_result"
    }
   ],
   "source": [
    "data.drop(['step','nameOrig','nameDest','isFlaggedFraud','oldbalanceDest','newbalanceDest'],axis=1,inplace=True)\n",
    "data.head()"
   ]
  },
  {
   "cell_type": "code",
   "execution_count": 16,
   "id": "13628e9c",
   "metadata": {
    "colab": {
     "base_uri": "https://localhost:8080/",
     "height": 206
    },
    "id": "13628e9c",
    "outputId": "5ed06a74-3510-47e4-cd3b-d4419d84ccae"
   },
   "outputs": [
    {
     "data": {
      "text/html": [
       "\n",
       "  <div id=\"df-a3acb4ae-83ae-40ff-b931-b6fe5df6a79b\">\n",
       "    <div class=\"colab-df-container\">\n",
       "      <div>\n",
       "<style scoped>\n",
       "    .dataframe tbody tr th:only-of-type {\n",
       "        vertical-align: middle;\n",
       "    }\n",
       "\n",
       "    .dataframe tbody tr th {\n",
       "        vertical-align: top;\n",
       "    }\n",
       "\n",
       "    .dataframe thead th {\n",
       "        text-align: right;\n",
       "    }\n",
       "</style>\n",
       "<table border=\"1\" class=\"dataframe\">\n",
       "  <thead>\n",
       "    <tr style=\"text-align: right;\">\n",
       "      <th></th>\n",
       "      <th>type</th>\n",
       "      <th>amount</th>\n",
       "      <th>old_bal</th>\n",
       "      <th>new_bal</th>\n",
       "      <th>isFraud</th>\n",
       "    </tr>\n",
       "  </thead>\n",
       "  <tbody>\n",
       "    <tr>\n",
       "      <th>0</th>\n",
       "      <td>PAYMENT</td>\n",
       "      <td>9839.64</td>\n",
       "      <td>170136.0</td>\n",
       "      <td>160296.36</td>\n",
       "      <td>0</td>\n",
       "    </tr>\n",
       "    <tr>\n",
       "      <th>1</th>\n",
       "      <td>PAYMENT</td>\n",
       "      <td>1864.28</td>\n",
       "      <td>21249.0</td>\n",
       "      <td>19384.72</td>\n",
       "      <td>0</td>\n",
       "    </tr>\n",
       "    <tr>\n",
       "      <th>2</th>\n",
       "      <td>TRANSFER</td>\n",
       "      <td>181.00</td>\n",
       "      <td>181.0</td>\n",
       "      <td>0.00</td>\n",
       "      <td>1</td>\n",
       "    </tr>\n",
       "    <tr>\n",
       "      <th>3</th>\n",
       "      <td>CASH_OUT</td>\n",
       "      <td>181.00</td>\n",
       "      <td>181.0</td>\n",
       "      <td>0.00</td>\n",
       "      <td>1</td>\n",
       "    </tr>\n",
       "    <tr>\n",
       "      <th>4</th>\n",
       "      <td>PAYMENT</td>\n",
       "      <td>11668.14</td>\n",
       "      <td>41554.0</td>\n",
       "      <td>29885.86</td>\n",
       "      <td>0</td>\n",
       "    </tr>\n",
       "  </tbody>\n",
       "</table>\n",
       "</div>\n",
       "      <button class=\"colab-df-convert\" onclick=\"convertToInteractive('df-a3acb4ae-83ae-40ff-b931-b6fe5df6a79b')\"\n",
       "              title=\"Convert this dataframe to an interactive table.\"\n",
       "              style=\"display:none;\">\n",
       "        \n",
       "  <svg xmlns=\"http://www.w3.org/2000/svg\" height=\"24px\"viewBox=\"0 0 24 24\"\n",
       "       width=\"24px\">\n",
       "    <path d=\"M0 0h24v24H0V0z\" fill=\"none\"/>\n",
       "    <path d=\"M18.56 5.44l.94 2.06.94-2.06 2.06-.94-2.06-.94-.94-2.06-.94 2.06-2.06.94zm-11 1L8.5 8.5l.94-2.06 2.06-.94-2.06-.94L8.5 2.5l-.94 2.06-2.06.94zm10 10l.94 2.06.94-2.06 2.06-.94-2.06-.94-.94-2.06-.94 2.06-2.06.94z\"/><path d=\"M17.41 7.96l-1.37-1.37c-.4-.4-.92-.59-1.43-.59-.52 0-1.04.2-1.43.59L10.3 9.45l-7.72 7.72c-.78.78-.78 2.05 0 2.83L4 21.41c.39.39.9.59 1.41.59.51 0 1.02-.2 1.41-.59l7.78-7.78 2.81-2.81c.8-.78.8-2.07 0-2.86zM5.41 20L4 18.59l7.72-7.72 1.47 1.35L5.41 20z\"/>\n",
       "  </svg>\n",
       "      </button>\n",
       "      \n",
       "  <style>\n",
       "    .colab-df-container {\n",
       "      display:flex;\n",
       "      flex-wrap:wrap;\n",
       "      gap: 12px;\n",
       "    }\n",
       "\n",
       "    .colab-df-convert {\n",
       "      background-color: #E8F0FE;\n",
       "      border: none;\n",
       "      border-radius: 50%;\n",
       "      cursor: pointer;\n",
       "      display: none;\n",
       "      fill: #1967D2;\n",
       "      height: 32px;\n",
       "      padding: 0 0 0 0;\n",
       "      width: 32px;\n",
       "    }\n",
       "\n",
       "    .colab-df-convert:hover {\n",
       "      background-color: #E2EBFA;\n",
       "      box-shadow: 0px 1px 2px rgba(60, 64, 67, 0.3), 0px 1px 3px 1px rgba(60, 64, 67, 0.15);\n",
       "      fill: #174EA6;\n",
       "    }\n",
       "\n",
       "    [theme=dark] .colab-df-convert {\n",
       "      background-color: #3B4455;\n",
       "      fill: #D2E3FC;\n",
       "    }\n",
       "\n",
       "    [theme=dark] .colab-df-convert:hover {\n",
       "      background-color: #434B5C;\n",
       "      box-shadow: 0px 1px 3px 1px rgba(0, 0, 0, 0.15);\n",
       "      filter: drop-shadow(0px 1px 2px rgba(0, 0, 0, 0.3));\n",
       "      fill: #FFFFFF;\n",
       "    }\n",
       "  </style>\n",
       "\n",
       "      <script>\n",
       "        const buttonEl =\n",
       "          document.querySelector('#df-a3acb4ae-83ae-40ff-b931-b6fe5df6a79b button.colab-df-convert');\n",
       "        buttonEl.style.display =\n",
       "          google.colab.kernel.accessAllowed ? 'block' : 'none';\n",
       "\n",
       "        async function convertToInteractive(key) {\n",
       "          const element = document.querySelector('#df-a3acb4ae-83ae-40ff-b931-b6fe5df6a79b');\n",
       "          const dataTable =\n",
       "            await google.colab.kernel.invokeFunction('convertToInteractive',\n",
       "                                                     [key], {});\n",
       "          if (!dataTable) return;\n",
       "\n",
       "          const docLinkHtml = 'Like what you see? Visit the ' +\n",
       "            '<a target=\"_blank\" href=https://colab.research.google.com/notebooks/data_table.ipynb>data table notebook</a>'\n",
       "            + ' to learn more about interactive tables.';\n",
       "          element.innerHTML = '';\n",
       "          dataTable['output_type'] = 'display_data';\n",
       "          await google.colab.output.renderOutput(dataTable, element);\n",
       "          const docLink = document.createElement('div');\n",
       "          docLink.innerHTML = docLinkHtml;\n",
       "          element.appendChild(docLink);\n",
       "        }\n",
       "      </script>\n",
       "    </div>\n",
       "  </div>\n",
       "  "
      ],
      "text/plain": [
       "       type    amount   old_bal    new_bal  isFraud\n",
       "0   PAYMENT   9839.64  170136.0  160296.36        0\n",
       "1   PAYMENT   1864.28   21249.0   19384.72        0\n",
       "2  TRANSFER    181.00     181.0       0.00        1\n",
       "3  CASH_OUT    181.00     181.0       0.00        1\n",
       "4   PAYMENT  11668.14   41554.0   29885.86        0"
      ]
     },
     "execution_count": 16,
     "metadata": {},
     "output_type": "execute_result"
    }
   ],
   "source": [
    "data.rename(columns={\"oldbalanceOrg\":\"old_bal\"},inplace = True)\n",
    "data.rename(columns={\"newbalanceOrig\":\"new_bal\"},inplace = True)\n",
    "data.head()"
   ]
  },
  {
   "cell_type": "code",
   "execution_count": 17,
   "id": "d97bca6c",
   "metadata": {
    "colab": {
     "base_uri": "https://localhost:8080/"
    },
    "id": "d97bca6c",
    "outputId": "3c6a046c-4c6d-4bca-a291-53e20a8662c7"
   },
   "outputs": [
    {
     "name": "stdout",
     "output_type": "stream",
     "text": [
      "Type ['CASH_IN' 'CASH_OUT' 'DEBIT' 'PAYMENT' 'TRANSFER']\n"
     ]
    }
   ],
   "source": [
    "print(\"Type\",np.unique(data.type))"
   ]
  },
  {
   "cell_type": "code",
   "execution_count": 18,
   "id": "af7d2aa2",
   "metadata": {
    "id": "af7d2aa2"
   },
   "outputs": [],
   "source": [
    "from sklearn.preprocessing import LabelEncoder\n",
    "le = LabelEncoder()\n",
    "data['type'] = le.fit_transform(data['type'])"
   ]
  },
  {
   "cell_type": "code",
   "execution_count": 19,
   "id": "031a84fc",
   "metadata": {
    "colab": {
     "base_uri": "https://localhost:8080/",
     "height": 206
    },
    "id": "031a84fc",
    "outputId": "5f0931ce-5768-4315-9297-f53466bea957"
   },
   "outputs": [
    {
     "data": {
      "text/html": [
       "\n",
       "  <div id=\"df-19bfa75e-ec53-490d-ba59-294ac598bdbd\">\n",
       "    <div class=\"colab-df-container\">\n",
       "      <div>\n",
       "<style scoped>\n",
       "    .dataframe tbody tr th:only-of-type {\n",
       "        vertical-align: middle;\n",
       "    }\n",
       "\n",
       "    .dataframe tbody tr th {\n",
       "        vertical-align: top;\n",
       "    }\n",
       "\n",
       "    .dataframe thead th {\n",
       "        text-align: right;\n",
       "    }\n",
       "</style>\n",
       "<table border=\"1\" class=\"dataframe\">\n",
       "  <thead>\n",
       "    <tr style=\"text-align: right;\">\n",
       "      <th></th>\n",
       "      <th>type</th>\n",
       "      <th>amount</th>\n",
       "      <th>old_bal</th>\n",
       "      <th>new_bal</th>\n",
       "      <th>isFraud</th>\n",
       "    </tr>\n",
       "  </thead>\n",
       "  <tbody>\n",
       "    <tr>\n",
       "      <th>0</th>\n",
       "      <td>3</td>\n",
       "      <td>9839.64</td>\n",
       "      <td>170136.0</td>\n",
       "      <td>160296.36</td>\n",
       "      <td>0</td>\n",
       "    </tr>\n",
       "    <tr>\n",
       "      <th>1</th>\n",
       "      <td>3</td>\n",
       "      <td>1864.28</td>\n",
       "      <td>21249.0</td>\n",
       "      <td>19384.72</td>\n",
       "      <td>0</td>\n",
       "    </tr>\n",
       "    <tr>\n",
       "      <th>2</th>\n",
       "      <td>4</td>\n",
       "      <td>181.00</td>\n",
       "      <td>181.0</td>\n",
       "      <td>0.00</td>\n",
       "      <td>1</td>\n",
       "    </tr>\n",
       "    <tr>\n",
       "      <th>3</th>\n",
       "      <td>1</td>\n",
       "      <td>181.00</td>\n",
       "      <td>181.0</td>\n",
       "      <td>0.00</td>\n",
       "      <td>1</td>\n",
       "    </tr>\n",
       "    <tr>\n",
       "      <th>4</th>\n",
       "      <td>3</td>\n",
       "      <td>11668.14</td>\n",
       "      <td>41554.0</td>\n",
       "      <td>29885.86</td>\n",
       "      <td>0</td>\n",
       "    </tr>\n",
       "  </tbody>\n",
       "</table>\n",
       "</div>\n",
       "      <button class=\"colab-df-convert\" onclick=\"convertToInteractive('df-19bfa75e-ec53-490d-ba59-294ac598bdbd')\"\n",
       "              title=\"Convert this dataframe to an interactive table.\"\n",
       "              style=\"display:none;\">\n",
       "        \n",
       "  <svg xmlns=\"http://www.w3.org/2000/svg\" height=\"24px\"viewBox=\"0 0 24 24\"\n",
       "       width=\"24px\">\n",
       "    <path d=\"M0 0h24v24H0V0z\" fill=\"none\"/>\n",
       "    <path d=\"M18.56 5.44l.94 2.06.94-2.06 2.06-.94-2.06-.94-.94-2.06-.94 2.06-2.06.94zm-11 1L8.5 8.5l.94-2.06 2.06-.94-2.06-.94L8.5 2.5l-.94 2.06-2.06.94zm10 10l.94 2.06.94-2.06 2.06-.94-2.06-.94-.94-2.06-.94 2.06-2.06.94z\"/><path d=\"M17.41 7.96l-1.37-1.37c-.4-.4-.92-.59-1.43-.59-.52 0-1.04.2-1.43.59L10.3 9.45l-7.72 7.72c-.78.78-.78 2.05 0 2.83L4 21.41c.39.39.9.59 1.41.59.51 0 1.02-.2 1.41-.59l7.78-7.78 2.81-2.81c.8-.78.8-2.07 0-2.86zM5.41 20L4 18.59l7.72-7.72 1.47 1.35L5.41 20z\"/>\n",
       "  </svg>\n",
       "      </button>\n",
       "      \n",
       "  <style>\n",
       "    .colab-df-container {\n",
       "      display:flex;\n",
       "      flex-wrap:wrap;\n",
       "      gap: 12px;\n",
       "    }\n",
       "\n",
       "    .colab-df-convert {\n",
       "      background-color: #E8F0FE;\n",
       "      border: none;\n",
       "      border-radius: 50%;\n",
       "      cursor: pointer;\n",
       "      display: none;\n",
       "      fill: #1967D2;\n",
       "      height: 32px;\n",
       "      padding: 0 0 0 0;\n",
       "      width: 32px;\n",
       "    }\n",
       "\n",
       "    .colab-df-convert:hover {\n",
       "      background-color: #E2EBFA;\n",
       "      box-shadow: 0px 1px 2px rgba(60, 64, 67, 0.3), 0px 1px 3px 1px rgba(60, 64, 67, 0.15);\n",
       "      fill: #174EA6;\n",
       "    }\n",
       "\n",
       "    [theme=dark] .colab-df-convert {\n",
       "      background-color: #3B4455;\n",
       "      fill: #D2E3FC;\n",
       "    }\n",
       "\n",
       "    [theme=dark] .colab-df-convert:hover {\n",
       "      background-color: #434B5C;\n",
       "      box-shadow: 0px 1px 3px 1px rgba(0, 0, 0, 0.15);\n",
       "      filter: drop-shadow(0px 1px 2px rgba(0, 0, 0, 0.3));\n",
       "      fill: #FFFFFF;\n",
       "    }\n",
       "  </style>\n",
       "\n",
       "      <script>\n",
       "        const buttonEl =\n",
       "          document.querySelector('#df-19bfa75e-ec53-490d-ba59-294ac598bdbd button.colab-df-convert');\n",
       "        buttonEl.style.display =\n",
       "          google.colab.kernel.accessAllowed ? 'block' : 'none';\n",
       "\n",
       "        async function convertToInteractive(key) {\n",
       "          const element = document.querySelector('#df-19bfa75e-ec53-490d-ba59-294ac598bdbd');\n",
       "          const dataTable =\n",
       "            await google.colab.kernel.invokeFunction('convertToInteractive',\n",
       "                                                     [key], {});\n",
       "          if (!dataTable) return;\n",
       "\n",
       "          const docLinkHtml = 'Like what you see? Visit the ' +\n",
       "            '<a target=\"_blank\" href=https://colab.research.google.com/notebooks/data_table.ipynb>data table notebook</a>'\n",
       "            + ' to learn more about interactive tables.';\n",
       "          element.innerHTML = '';\n",
       "          dataTable['output_type'] = 'display_data';\n",
       "          await google.colab.output.renderOutput(dataTable, element);\n",
       "          const docLink = document.createElement('div');\n",
       "          docLink.innerHTML = docLinkHtml;\n",
       "          element.appendChild(docLink);\n",
       "        }\n",
       "      </script>\n",
       "    </div>\n",
       "  </div>\n",
       "  "
      ],
      "text/plain": [
       "   type    amount   old_bal    new_bal  isFraud\n",
       "0     3   9839.64  170136.0  160296.36        0\n",
       "1     3   1864.28   21249.0   19384.72        0\n",
       "2     4    181.00     181.0       0.00        1\n",
       "3     1    181.00     181.0       0.00        1\n",
       "4     3  11668.14   41554.0   29885.86        0"
      ]
     },
     "execution_count": 19,
     "metadata": {},
     "output_type": "execute_result"
    }
   ],
   "source": [
    "data.head()"
   ]
  },
  {
   "cell_type": "code",
   "execution_count": 20,
   "id": "bnVbnwZSEkD5",
   "metadata": {
    "colab": {
     "base_uri": "https://localhost:8080/"
    },
    "id": "bnVbnwZSEkD5",
    "outputId": "d2fda74b-48aa-4370-bf7a-6825dbadb05c"
   },
   "outputs": [
    {
     "name": "stdout",
     "output_type": "stream",
     "text": [
      "Type [0 1 2 3 4]\n"
     ]
    }
   ],
   "source": [
    "print(\"Type\",np.unique(data.type))"
   ]
  },
  {
   "cell_type": "code",
   "execution_count": 21,
   "id": "ccc22964",
   "metadata": {
    "colab": {
     "base_uri": "https://localhost:8080/"
    },
    "execution": {
     "iopub.execute_input": "2022-02-04T02:36:07.576546Z",
     "iopub.status.busy": "2022-02-04T02:36:07.575797Z",
     "iopub.status.idle": "2022-02-04T02:36:09.334445Z",
     "shell.execute_reply": "2022-02-04T02:36:09.334976Z",
     "shell.execute_reply.started": "2022-02-04T02:00:41.312266Z"
    },
    "id": "ccc22964",
    "outputId": "0297b18f-dbd4-49b4-b60d-0706ff369f7b",
    "papermill": {
     "duration": 1.799809,
     "end_time": "2022-02-04T02:36:09.335219",
     "exception": false,
     "start_time": "2022-02-04T02:36:07.535410",
     "status": "completed"
    },
    "tags": []
   },
   "outputs": [
    {
     "data": {
      "text/plain": [
       "((4771965, 4), (1590655, 4), (4771965,), (1590655,))"
      ]
     },
     "execution_count": 21,
     "metadata": {},
     "output_type": "execute_result"
    }
   ],
   "source": [
    "X = data.drop([\"isFraud\"],axis=1)\n",
    "y = data.isFraud\n",
    "X_train, X_test, y_train, y_test = train_test_split(X, y,stratify=y)\n",
    "X_train.shape, X_test.shape, y_train.shape, y_test.shape"
   ]
  },
  {
   "cell_type": "code",
   "execution_count": 22,
   "id": "a865672d",
   "metadata": {
    "colab": {
     "base_uri": "https://localhost:8080/",
     "height": 424
    },
    "id": "a865672d",
    "outputId": "b3bce472-d827-4f6f-ed21-97214d4e09b0"
   },
   "outputs": [
    {
     "data": {
      "text/html": [
       "\n",
       "  <div id=\"df-9f3d5449-7d2e-4e6e-88c7-c23891d15056\">\n",
       "    <div class=\"colab-df-container\">\n",
       "      <div>\n",
       "<style scoped>\n",
       "    .dataframe tbody tr th:only-of-type {\n",
       "        vertical-align: middle;\n",
       "    }\n",
       "\n",
       "    .dataframe tbody tr th {\n",
       "        vertical-align: top;\n",
       "    }\n",
       "\n",
       "    .dataframe thead th {\n",
       "        text-align: right;\n",
       "    }\n",
       "</style>\n",
       "<table border=\"1\" class=\"dataframe\">\n",
       "  <thead>\n",
       "    <tr style=\"text-align: right;\">\n",
       "      <th></th>\n",
       "      <th>type</th>\n",
       "      <th>amount</th>\n",
       "      <th>old_bal</th>\n",
       "      <th>new_bal</th>\n",
       "    </tr>\n",
       "  </thead>\n",
       "  <tbody>\n",
       "    <tr>\n",
       "      <th>391837</th>\n",
       "      <td>0</td>\n",
       "      <td>26154.83</td>\n",
       "      <td>909751.31</td>\n",
       "      <td>935906.13</td>\n",
       "    </tr>\n",
       "    <tr>\n",
       "      <th>1262827</th>\n",
       "      <td>4</td>\n",
       "      <td>483518.37</td>\n",
       "      <td>174.00</td>\n",
       "      <td>0.00</td>\n",
       "    </tr>\n",
       "    <tr>\n",
       "      <th>3281266</th>\n",
       "      <td>1</td>\n",
       "      <td>158627.98</td>\n",
       "      <td>7046.00</td>\n",
       "      <td>0.00</td>\n",
       "    </tr>\n",
       "    <tr>\n",
       "      <th>5595668</th>\n",
       "      <td>3</td>\n",
       "      <td>25555.05</td>\n",
       "      <td>625638.00</td>\n",
       "      <td>600082.95</td>\n",
       "    </tr>\n",
       "    <tr>\n",
       "      <th>3879004</th>\n",
       "      <td>0</td>\n",
       "      <td>7897.48</td>\n",
       "      <td>2668687.92</td>\n",
       "      <td>2676585.39</td>\n",
       "    </tr>\n",
       "    <tr>\n",
       "      <th>...</th>\n",
       "      <td>...</td>\n",
       "      <td>...</td>\n",
       "      <td>...</td>\n",
       "      <td>...</td>\n",
       "    </tr>\n",
       "    <tr>\n",
       "      <th>5172440</th>\n",
       "      <td>1</td>\n",
       "      <td>34766.86</td>\n",
       "      <td>67780.00</td>\n",
       "      <td>33013.14</td>\n",
       "    </tr>\n",
       "    <tr>\n",
       "      <th>5386563</th>\n",
       "      <td>1</td>\n",
       "      <td>171296.74</td>\n",
       "      <td>0.00</td>\n",
       "      <td>0.00</td>\n",
       "    </tr>\n",
       "    <tr>\n",
       "      <th>258017</th>\n",
       "      <td>3</td>\n",
       "      <td>9216.64</td>\n",
       "      <td>181920.00</td>\n",
       "      <td>172703.36</td>\n",
       "    </tr>\n",
       "    <tr>\n",
       "      <th>2359966</th>\n",
       "      <td>3</td>\n",
       "      <td>9336.03</td>\n",
       "      <td>41053.00</td>\n",
       "      <td>31716.97</td>\n",
       "    </tr>\n",
       "    <tr>\n",
       "      <th>4688239</th>\n",
       "      <td>1</td>\n",
       "      <td>164558.11</td>\n",
       "      <td>4792.00</td>\n",
       "      <td>0.00</td>\n",
       "    </tr>\n",
       "  </tbody>\n",
       "</table>\n",
       "<p>4771965 rows × 4 columns</p>\n",
       "</div>\n",
       "      <button class=\"colab-df-convert\" onclick=\"convertToInteractive('df-9f3d5449-7d2e-4e6e-88c7-c23891d15056')\"\n",
       "              title=\"Convert this dataframe to an interactive table.\"\n",
       "              style=\"display:none;\">\n",
       "        \n",
       "  <svg xmlns=\"http://www.w3.org/2000/svg\" height=\"24px\"viewBox=\"0 0 24 24\"\n",
       "       width=\"24px\">\n",
       "    <path d=\"M0 0h24v24H0V0z\" fill=\"none\"/>\n",
       "    <path d=\"M18.56 5.44l.94 2.06.94-2.06 2.06-.94-2.06-.94-.94-2.06-.94 2.06-2.06.94zm-11 1L8.5 8.5l.94-2.06 2.06-.94-2.06-.94L8.5 2.5l-.94 2.06-2.06.94zm10 10l.94 2.06.94-2.06 2.06-.94-2.06-.94-.94-2.06-.94 2.06-2.06.94z\"/><path d=\"M17.41 7.96l-1.37-1.37c-.4-.4-.92-.59-1.43-.59-.52 0-1.04.2-1.43.59L10.3 9.45l-7.72 7.72c-.78.78-.78 2.05 0 2.83L4 21.41c.39.39.9.59 1.41.59.51 0 1.02-.2 1.41-.59l7.78-7.78 2.81-2.81c.8-.78.8-2.07 0-2.86zM5.41 20L4 18.59l7.72-7.72 1.47 1.35L5.41 20z\"/>\n",
       "  </svg>\n",
       "      </button>\n",
       "      \n",
       "  <style>\n",
       "    .colab-df-container {\n",
       "      display:flex;\n",
       "      flex-wrap:wrap;\n",
       "      gap: 12px;\n",
       "    }\n",
       "\n",
       "    .colab-df-convert {\n",
       "      background-color: #E8F0FE;\n",
       "      border: none;\n",
       "      border-radius: 50%;\n",
       "      cursor: pointer;\n",
       "      display: none;\n",
       "      fill: #1967D2;\n",
       "      height: 32px;\n",
       "      padding: 0 0 0 0;\n",
       "      width: 32px;\n",
       "    }\n",
       "\n",
       "    .colab-df-convert:hover {\n",
       "      background-color: #E2EBFA;\n",
       "      box-shadow: 0px 1px 2px rgba(60, 64, 67, 0.3), 0px 1px 3px 1px rgba(60, 64, 67, 0.15);\n",
       "      fill: #174EA6;\n",
       "    }\n",
       "\n",
       "    [theme=dark] .colab-df-convert {\n",
       "      background-color: #3B4455;\n",
       "      fill: #D2E3FC;\n",
       "    }\n",
       "\n",
       "    [theme=dark] .colab-df-convert:hover {\n",
       "      background-color: #434B5C;\n",
       "      box-shadow: 0px 1px 3px 1px rgba(0, 0, 0, 0.15);\n",
       "      filter: drop-shadow(0px 1px 2px rgba(0, 0, 0, 0.3));\n",
       "      fill: #FFFFFF;\n",
       "    }\n",
       "  </style>\n",
       "\n",
       "      <script>\n",
       "        const buttonEl =\n",
       "          document.querySelector('#df-9f3d5449-7d2e-4e6e-88c7-c23891d15056 button.colab-df-convert');\n",
       "        buttonEl.style.display =\n",
       "          google.colab.kernel.accessAllowed ? 'block' : 'none';\n",
       "\n",
       "        async function convertToInteractive(key) {\n",
       "          const element = document.querySelector('#df-9f3d5449-7d2e-4e6e-88c7-c23891d15056');\n",
       "          const dataTable =\n",
       "            await google.colab.kernel.invokeFunction('convertToInteractive',\n",
       "                                                     [key], {});\n",
       "          if (!dataTable) return;\n",
       "\n",
       "          const docLinkHtml = 'Like what you see? Visit the ' +\n",
       "            '<a target=\"_blank\" href=https://colab.research.google.com/notebooks/data_table.ipynb>data table notebook</a>'\n",
       "            + ' to learn more about interactive tables.';\n",
       "          element.innerHTML = '';\n",
       "          dataTable['output_type'] = 'display_data';\n",
       "          await google.colab.output.renderOutput(dataTable, element);\n",
       "          const docLink = document.createElement('div');\n",
       "          docLink.innerHTML = docLinkHtml;\n",
       "          element.appendChild(docLink);\n",
       "        }\n",
       "      </script>\n",
       "    </div>\n",
       "  </div>\n",
       "  "
      ],
      "text/plain": [
       "         type     amount     old_bal     new_bal\n",
       "391837      0   26154.83   909751.31   935906.13\n",
       "1262827     4  483518.37      174.00        0.00\n",
       "3281266     1  158627.98     7046.00        0.00\n",
       "5595668     3   25555.05   625638.00   600082.95\n",
       "3879004     0    7897.48  2668687.92  2676585.39\n",
       "...       ...        ...         ...         ...\n",
       "5172440     1   34766.86    67780.00    33013.14\n",
       "5386563     1  171296.74        0.00        0.00\n",
       "258017      3    9216.64   181920.00   172703.36\n",
       "2359966     3    9336.03    41053.00    31716.97\n",
       "4688239     1  164558.11     4792.00        0.00\n",
       "\n",
       "[4771965 rows x 4 columns]"
      ]
     },
     "execution_count": 22,
     "metadata": {},
     "output_type": "execute_result"
    }
   ],
   "source": [
    "X_train"
   ]
  },
  {
   "cell_type": "code",
   "execution_count": 23,
   "id": "58e14c6f",
   "metadata": {
    "colab": {
     "base_uri": "https://localhost:8080/",
     "height": 424
    },
    "id": "58e14c6f",
    "outputId": "28b9f0ee-910b-4202-90ce-82561f9dcbc4"
   },
   "outputs": [
    {
     "data": {
      "text/html": [
       "\n",
       "  <div id=\"df-436025be-914c-4785-ac3e-8fb98b0d23ec\">\n",
       "    <div class=\"colab-df-container\">\n",
       "      <div>\n",
       "<style scoped>\n",
       "    .dataframe tbody tr th:only-of-type {\n",
       "        vertical-align: middle;\n",
       "    }\n",
       "\n",
       "    .dataframe tbody tr th {\n",
       "        vertical-align: top;\n",
       "    }\n",
       "\n",
       "    .dataframe thead th {\n",
       "        text-align: right;\n",
       "    }\n",
       "</style>\n",
       "<table border=\"1\" class=\"dataframe\">\n",
       "  <thead>\n",
       "    <tr style=\"text-align: right;\">\n",
       "      <th></th>\n",
       "      <th>type</th>\n",
       "      <th>amount</th>\n",
       "      <th>old_bal</th>\n",
       "      <th>new_bal</th>\n",
       "    </tr>\n",
       "  </thead>\n",
       "  <tbody>\n",
       "    <tr>\n",
       "      <th>3491989</th>\n",
       "      <td>4</td>\n",
       "      <td>293904.33</td>\n",
       "      <td>0.00</td>\n",
       "      <td>0.00</td>\n",
       "    </tr>\n",
       "    <tr>\n",
       "      <th>2701196</th>\n",
       "      <td>4</td>\n",
       "      <td>315330.18</td>\n",
       "      <td>364148.00</td>\n",
       "      <td>48817.82</td>\n",
       "    </tr>\n",
       "    <tr>\n",
       "      <th>2675469</th>\n",
       "      <td>1</td>\n",
       "      <td>72247.86</td>\n",
       "      <td>11857.00</td>\n",
       "      <td>0.00</td>\n",
       "    </tr>\n",
       "    <tr>\n",
       "      <th>2088944</th>\n",
       "      <td>1</td>\n",
       "      <td>161031.36</td>\n",
       "      <td>447504.00</td>\n",
       "      <td>286472.64</td>\n",
       "    </tr>\n",
       "    <tr>\n",
       "      <th>558944</th>\n",
       "      <td>0</td>\n",
       "      <td>260385.21</td>\n",
       "      <td>4052652.93</td>\n",
       "      <td>4313038.14</td>\n",
       "    </tr>\n",
       "    <tr>\n",
       "      <th>...</th>\n",
       "      <td>...</td>\n",
       "      <td>...</td>\n",
       "      <td>...</td>\n",
       "      <td>...</td>\n",
       "    </tr>\n",
       "    <tr>\n",
       "      <th>2822458</th>\n",
       "      <td>0</td>\n",
       "      <td>142373.82</td>\n",
       "      <td>15232236.00</td>\n",
       "      <td>15374609.82</td>\n",
       "    </tr>\n",
       "    <tr>\n",
       "      <th>2014979</th>\n",
       "      <td>0</td>\n",
       "      <td>106334.92</td>\n",
       "      <td>10315804.73</td>\n",
       "      <td>10422139.65</td>\n",
       "    </tr>\n",
       "    <tr>\n",
       "      <th>3123745</th>\n",
       "      <td>1</td>\n",
       "      <td>14002.42</td>\n",
       "      <td>0.00</td>\n",
       "      <td>0.00</td>\n",
       "    </tr>\n",
       "    <tr>\n",
       "      <th>5254952</th>\n",
       "      <td>3</td>\n",
       "      <td>16561.50</td>\n",
       "      <td>26475.00</td>\n",
       "      <td>9913.50</td>\n",
       "    </tr>\n",
       "    <tr>\n",
       "      <th>3935346</th>\n",
       "      <td>3</td>\n",
       "      <td>4507.39</td>\n",
       "      <td>0.00</td>\n",
       "      <td>0.00</td>\n",
       "    </tr>\n",
       "  </tbody>\n",
       "</table>\n",
       "<p>1590655 rows × 4 columns</p>\n",
       "</div>\n",
       "      <button class=\"colab-df-convert\" onclick=\"convertToInteractive('df-436025be-914c-4785-ac3e-8fb98b0d23ec')\"\n",
       "              title=\"Convert this dataframe to an interactive table.\"\n",
       "              style=\"display:none;\">\n",
       "        \n",
       "  <svg xmlns=\"http://www.w3.org/2000/svg\" height=\"24px\"viewBox=\"0 0 24 24\"\n",
       "       width=\"24px\">\n",
       "    <path d=\"M0 0h24v24H0V0z\" fill=\"none\"/>\n",
       "    <path d=\"M18.56 5.44l.94 2.06.94-2.06 2.06-.94-2.06-.94-.94-2.06-.94 2.06-2.06.94zm-11 1L8.5 8.5l.94-2.06 2.06-.94-2.06-.94L8.5 2.5l-.94 2.06-2.06.94zm10 10l.94 2.06.94-2.06 2.06-.94-2.06-.94-.94-2.06-.94 2.06-2.06.94z\"/><path d=\"M17.41 7.96l-1.37-1.37c-.4-.4-.92-.59-1.43-.59-.52 0-1.04.2-1.43.59L10.3 9.45l-7.72 7.72c-.78.78-.78 2.05 0 2.83L4 21.41c.39.39.9.59 1.41.59.51 0 1.02-.2 1.41-.59l7.78-7.78 2.81-2.81c.8-.78.8-2.07 0-2.86zM5.41 20L4 18.59l7.72-7.72 1.47 1.35L5.41 20z\"/>\n",
       "  </svg>\n",
       "      </button>\n",
       "      \n",
       "  <style>\n",
       "    .colab-df-container {\n",
       "      display:flex;\n",
       "      flex-wrap:wrap;\n",
       "      gap: 12px;\n",
       "    }\n",
       "\n",
       "    .colab-df-convert {\n",
       "      background-color: #E8F0FE;\n",
       "      border: none;\n",
       "      border-radius: 50%;\n",
       "      cursor: pointer;\n",
       "      display: none;\n",
       "      fill: #1967D2;\n",
       "      height: 32px;\n",
       "      padding: 0 0 0 0;\n",
       "      width: 32px;\n",
       "    }\n",
       "\n",
       "    .colab-df-convert:hover {\n",
       "      background-color: #E2EBFA;\n",
       "      box-shadow: 0px 1px 2px rgba(60, 64, 67, 0.3), 0px 1px 3px 1px rgba(60, 64, 67, 0.15);\n",
       "      fill: #174EA6;\n",
       "    }\n",
       "\n",
       "    [theme=dark] .colab-df-convert {\n",
       "      background-color: #3B4455;\n",
       "      fill: #D2E3FC;\n",
       "    }\n",
       "\n",
       "    [theme=dark] .colab-df-convert:hover {\n",
       "      background-color: #434B5C;\n",
       "      box-shadow: 0px 1px 3px 1px rgba(0, 0, 0, 0.15);\n",
       "      filter: drop-shadow(0px 1px 2px rgba(0, 0, 0, 0.3));\n",
       "      fill: #FFFFFF;\n",
       "    }\n",
       "  </style>\n",
       "\n",
       "      <script>\n",
       "        const buttonEl =\n",
       "          document.querySelector('#df-436025be-914c-4785-ac3e-8fb98b0d23ec button.colab-df-convert');\n",
       "        buttonEl.style.display =\n",
       "          google.colab.kernel.accessAllowed ? 'block' : 'none';\n",
       "\n",
       "        async function convertToInteractive(key) {\n",
       "          const element = document.querySelector('#df-436025be-914c-4785-ac3e-8fb98b0d23ec');\n",
       "          const dataTable =\n",
       "            await google.colab.kernel.invokeFunction('convertToInteractive',\n",
       "                                                     [key], {});\n",
       "          if (!dataTable) return;\n",
       "\n",
       "          const docLinkHtml = 'Like what you see? Visit the ' +\n",
       "            '<a target=\"_blank\" href=https://colab.research.google.com/notebooks/data_table.ipynb>data table notebook</a>'\n",
       "            + ' to learn more about interactive tables.';\n",
       "          element.innerHTML = '';\n",
       "          dataTable['output_type'] = 'display_data';\n",
       "          await google.colab.output.renderOutput(dataTable, element);\n",
       "          const docLink = document.createElement('div');\n",
       "          docLink.innerHTML = docLinkHtml;\n",
       "          element.appendChild(docLink);\n",
       "        }\n",
       "      </script>\n",
       "    </div>\n",
       "  </div>\n",
       "  "
      ],
      "text/plain": [
       "         type     amount      old_bal      new_bal\n",
       "3491989     4  293904.33         0.00         0.00\n",
       "2701196     4  315330.18    364148.00     48817.82\n",
       "2675469     1   72247.86     11857.00         0.00\n",
       "2088944     1  161031.36    447504.00    286472.64\n",
       "558944      0  260385.21   4052652.93   4313038.14\n",
       "...       ...        ...          ...          ...\n",
       "2822458     0  142373.82  15232236.00  15374609.82\n",
       "2014979     0  106334.92  10315804.73  10422139.65\n",
       "3123745     1   14002.42         0.00         0.00\n",
       "5254952     3   16561.50     26475.00      9913.50\n",
       "3935346     3    4507.39         0.00         0.00\n",
       "\n",
       "[1590655 rows x 4 columns]"
      ]
     },
     "execution_count": 23,
     "metadata": {},
     "output_type": "execute_result"
    }
   ],
   "source": [
    "X_test"
   ]
  },
  {
   "cell_type": "code",
   "execution_count": 24,
   "id": "ec2a4e00",
   "metadata": {
    "colab": {
     "base_uri": "https://localhost:8080/"
    },
    "id": "ec2a4e00",
    "outputId": "4a92d01c-c7ae-4c40-a7ff-213b7620bad3"
   },
   "outputs": [
    {
     "data": {
      "text/plain": [
       "391837     0\n",
       "1262827    0\n",
       "3281266    0\n",
       "5595668    0\n",
       "3879004    0\n",
       "          ..\n",
       "5172440    0\n",
       "5386563    0\n",
       "258017     0\n",
       "2359966    0\n",
       "4688239    0\n",
       "Name: isFraud, Length: 4771965, dtype: int64"
      ]
     },
     "execution_count": 24,
     "metadata": {},
     "output_type": "execute_result"
    }
   ],
   "source": [
    "y_train"
   ]
  },
  {
   "cell_type": "code",
   "execution_count": 25,
   "id": "c2441c50",
   "metadata": {
    "colab": {
     "base_uri": "https://localhost:8080/"
    },
    "id": "c2441c50",
    "outputId": "08ab06b5-4af2-45c1-eac8-0cb306ea5d64"
   },
   "outputs": [
    {
     "data": {
      "text/plain": [
       "3491989    0\n",
       "2701196    0\n",
       "2675469    0\n",
       "2088944    0\n",
       "558944     0\n",
       "          ..\n",
       "2822458    0\n",
       "2014979    0\n",
       "3123745    0\n",
       "5254952    0\n",
       "3935346    0\n",
       "Name: isFraud, Length: 1590655, dtype: int64"
      ]
     },
     "execution_count": 25,
     "metadata": {},
     "output_type": "execute_result"
    }
   ],
   "source": [
    "y_test"
   ]
  },
  {
   "cell_type": "code",
   "execution_count": 26,
   "id": "46b1d2e6",
   "metadata": {
    "colab": {
     "base_uri": "https://localhost:8080/"
    },
    "execution": {
     "iopub.execute_input": "2022-02-04T02:36:09.506983Z",
     "iopub.status.busy": "2022-02-04T02:36:09.506172Z",
     "iopub.status.idle": "2022-02-04T02:36:30.719846Z",
     "shell.execute_reply": "2022-02-04T02:36:30.719203Z",
     "shell.execute_reply.started": "2022-02-04T02:01:43.018445Z"
    },
    "id": "46b1d2e6",
    "outputId": "759b3a4f-8017-4953-8beb-e4941200521f",
    "papermill": {
     "duration": 21.25979,
     "end_time": "2022-02-04T02:36:30.720022",
     "exception": false,
     "start_time": "2022-02-04T02:36:09.460232",
     "status": "completed"
    },
    "tags": []
   },
   "outputs": [
    {
     "name": "stdout",
     "output_type": "stream",
     "text": [
      "How many class does the model predict? [0 1]\n",
      "Numbers in each class:\t 0 : 1589771\n",
      "\t\t\t 1 : 884\n",
      "f1 score: 0.5141300646918625\n",
      "Training Score:  0.9991085433359214\n",
      "Testing Score 0.9991028852893934\n"
     ]
    }
   ],
   "source": [
    "model = LogisticRegression()\n",
    "model.fit(X_train, y_train)\n",
    "\n",
    "prediction = model.predict(X_test)\n",
    "\n",
    "print(\"How many class does the model predict?\",np.unique(prediction ))\n",
    "print(\"Numbers in each class:\\t\",\"0 :\",len(prediction[prediction==0]))\n",
    "print(\"\\t\\t\\t 1 :\",len(prediction[prediction==1]))\n",
    "\n",
    "f1score = f1_score(y_test, prediction)\n",
    "print('f1 score:', f1score)\n",
    "\n",
    "print(\"Training Score: \",model.score(X_train,y_train))\n",
    "print(\"Testing Score\",model.score(X_test,y_test))"
   ]
  },
  {
   "cell_type": "markdown",
   "id": "f2bc13f5",
   "metadata": {
    "id": "f2bc13f5",
    "papermill": {
     "duration": 0.038918,
     "end_time": "2022-02-04T02:36:30.798065",
     "exception": false,
     "start_time": "2022-02-04T02:36:30.759147",
     "status": "completed"
    },
    "tags": []
   },
   "source": [
    "## Since the dataset extremely imbalanced, some workaround can be done to overcome this. Below are all the methods listed"
   ]
  },
  {
   "cell_type": "markdown",
   "id": "1e278ffb",
   "metadata": {
    "id": "1e278ffb",
    "papermill": {
     "duration": 0.038911,
     "end_time": "2022-02-04T02:36:30.876161",
     "exception": false,
     "start_time": "2022-02-04T02:36:30.837250",
     "status": "completed"
    },
    "tags": []
   },
   "source": [
    "# 1. Up-sample Minority Class\n",
    "    Randomly duplicate the data from the minority class."
   ]
  },
  {
   "cell_type": "code",
   "execution_count": 27,
   "id": "e6e4fe2c",
   "metadata": {
    "colab": {
     "base_uri": "https://localhost:8080/"
    },
    "execution": {
     "iopub.execute_input": "2022-02-04T02:36:30.958225Z",
     "iopub.status.busy": "2022-02-04T02:36:30.956802Z",
     "iopub.status.idle": "2022-02-04T02:36:31.401001Z",
     "shell.execute_reply": "2022-02-04T02:36:31.400451Z",
     "shell.execute_reply.started": "2022-02-04T02:02:23.567362Z"
    },
    "id": "e6e4fe2c",
    "outputId": "3ded6dfd-7c28-4c7b-afcd-6b821b5f635f",
    "papermill": {
     "duration": 0.486125,
     "end_time": "2022-02-04T02:36:31.401142",
     "exception": false,
     "start_time": "2022-02-04T02:36:30.915017",
     "status": "completed"
    },
    "tags": []
   },
   "outputs": [
    {
     "name": "stdout",
     "output_type": "stream",
     "text": [
      "The new class count are :\n"
     ]
    },
    {
     "data": {
      "text/plain": [
       "0    6354407\n",
       "1    6354407\n",
       "Name: isFraud, dtype: int64"
      ]
     },
     "execution_count": 27,
     "metadata": {},
     "output_type": "execute_result"
    }
   ],
   "source": [
    "n = data.isFraud.value_counts()[0]\n",
    "\n",
    "# Separate majority and minority classes\n",
    "df_majority = data[data.isFraud==0]\n",
    "df_minority = data[data.isFraud==1]\n",
    "\n",
    "# Upsample minority class\n",
    "df_minority_upsampled = resample(df_minority, \n",
    "                                 replace=True,     \n",
    "                                 n_samples=n,    \n",
    "                                 random_state=123) \n",
    " \n",
    "# Combine majority class with upsampled minority class\n",
    "df_upsampled = pd.concat([df_majority, df_minority_upsampled])\n",
    " \n",
    "print(\"The new class count are :\")\n",
    "df_upsampled.isFraud.value_counts()"
   ]
  },
  {
   "cell_type": "code",
   "execution_count": 35,
   "id": "960632da",
   "metadata": {
    "colab": {
     "base_uri": "https://localhost:8080/"
    },
    "execution": {
     "iopub.execute_input": "2022-02-04T02:36:31.484004Z",
     "iopub.status.busy": "2022-02-04T02:36:31.483264Z",
     "iopub.status.idle": "2022-02-04T02:37:51.798599Z",
     "shell.execute_reply": "2022-02-04T02:37:51.797938Z",
     "shell.execute_reply.started": "2022-02-04T02:33:20.016976Z"
    },
    "id": "960632da",
    "outputId": "6b061526-bb9c-4ff3-d608-43aaba0c1629",
    "papermill": {
     "duration": 80.358078,
     "end_time": "2022-02-04T02:37:51.798783",
     "exception": false,
     "start_time": "2022-02-04T02:36:31.440705",
     "status": "completed"
    },
    "tags": []
   },
   "outputs": [
    {
     "name": "stdout",
     "output_type": "stream",
     "text": [
      "(9531610, 4) (3177204, 4) (9531610,) (3177204,)\n",
      "f1 score for the testing data:\t 0.9129755207471019\n",
      "How many class does the model predict? [0 1]\n",
      "Count in each class:\t\t\t 0 : 1310969\n",
      "\t\t\t\t\t 1 : 1866235\n",
      "Accuracy of thie model:\t\t 0.9053708858480601\n"
     ]
    }
   ],
   "source": [
    "X = df_upsampled.drop([\"isFraud\"],axis = 1)\n",
    "y = df_upsampled.isFraud\n",
    "X_train, X_test, y_train, y_test = train_test_split(X, y)\n",
    "print(X_train.shape,X_test.shape,y_train.shape,y_test.shape)\n",
    "\n",
    "model_up = LogisticRegression()\n",
    "model_up.fit(X_train, y_train)\n",
    "\n",
    "# Predicting on the test data\n",
    "up_scale_pred = model_up.predict(X_test)\n",
    "\n",
    "#Calculating and printing the f1 score \n",
    "f1up_scale_pred = f1_score(y_test, up_scale_pred)\n",
    "print('f1 score for the testing data:\\t', f1up_scale_pred)\n",
    "\n",
    "print(\"How many class does the model predict?\",np.unique( up_scale_pred ))\n",
    "print(\"Count in each class:\\t\\t\\t\",\"0 :\",len(up_scale_pred[up_scale_pred==0]))\n",
    "print(\"\\t\\t\\t\\t\\t 1 :\",len(up_scale_pred[up_scale_pred==1]))\n",
    "\n",
    "acc_up_scale=accuracy_score(y_test, up_scale_pred)\n",
    "print(\"Accuracy of thie model:\\t\\t\",acc_up_scale)\n"
   ]
  },
  {
   "cell_type": "markdown",
   "id": "9d77df76",
   "metadata": {
    "id": "9d77df76",
    "papermill": {
     "duration": 0.043026,
     "end_time": "2022-02-04T02:37:51.884436",
     "exception": false,
     "start_time": "2022-02-04T02:37:51.841410",
     "status": "completed"
    },
    "tags": []
   },
   "source": [
    "# 2. Down-sample Majority Class\n",
    "     Randomly remove data from the majority class"
   ]
  },
  {
   "cell_type": "code",
   "execution_count": 31,
   "id": "3bf19081",
   "metadata": {
    "colab": {
     "base_uri": "https://localhost:8080/"
    },
    "execution": {
     "iopub.execute_input": "2022-02-04T02:37:51.990172Z",
     "iopub.status.busy": "2022-02-04T02:37:51.989024Z",
     "iopub.status.idle": "2022-02-04T02:37:52.220635Z",
     "shell.execute_reply": "2022-02-04T02:37:52.221504Z",
     "shell.execute_reply.started": "2022-02-04T02:03:27.173127Z"
    },
    "id": "3bf19081",
    "outputId": "225f12e3-bd0b-480d-e9f3-704a90dedbc9",
    "papermill": {
     "duration": 0.295352,
     "end_time": "2022-02-04T02:37:52.221764",
     "exception": false,
     "start_time": "2022-02-04T02:37:51.926412",
     "status": "completed"
    },
    "tags": []
   },
   "outputs": [
    {
     "name": "stdout",
     "output_type": "stream",
     "text": [
      "The new class count are:\n",
      "0    8213\n",
      "1    8213\n",
      "Name: isFraud, dtype: int64\n"
     ]
    }
   ],
   "source": [
    "n = data.isFraud.value_counts()[1]\n",
    "\n",
    "# Separate majority and minority classes\n",
    "\n",
    "df_majority = data[data.isFraud==0]\n",
    "df_minority = data[data.isFraud==1]\n",
    "\n",
    " \n",
    "# Downsample majority class\n",
    "df_majority_downsampled = resample(df_majority, \n",
    "                                 replace=False,    # sample without replacement\n",
    "                                 n_samples=n,     # to match minority class\n",
    "                                 random_state=123) # reproducible results\n",
    " \n",
    "# Combine minority class with downsampled majority class\n",
    "df_downsampled = pd.concat([df_majority_downsampled, df_minority])\n",
    " \n",
    "print(\"The new class count are:\")\n",
    "print(df_downsampled.isFraud.value_counts())"
   ]
  },
  {
   "cell_type": "code",
   "execution_count": 32,
   "id": "ad464020",
   "metadata": {
    "colab": {
     "base_uri": "https://localhost:8080/"
    },
    "execution": {
     "iopub.execute_input": "2022-02-04T02:37:52.320637Z",
     "iopub.status.busy": "2022-02-04T02:37:52.319832Z",
     "iopub.status.idle": "2022-02-04T02:37:52.603662Z",
     "shell.execute_reply": "2022-02-04T02:37:52.604675Z",
     "shell.execute_reply.started": "2022-02-04T02:32:45.536006Z"
    },
    "id": "ad464020",
    "outputId": "be834be5-8911-4769-80d1-e7de65444354",
    "papermill": {
     "duration": 0.339883,
     "end_time": "2022-02-04T02:37:52.605000",
     "exception": false,
     "start_time": "2022-02-04T02:37:52.265117",
     "status": "completed"
    },
    "tags": []
   },
   "outputs": [
    {
     "name": "stdout",
     "output_type": "stream",
     "text": [
      "How many class does the model predict? [0 1]\n",
      "Count in each class:\t\t\t 0 : 6801\n",
      "\t\t\t\t\t 1 : 9625\n",
      "f1 score for the testing data:\t\t 0.9141159322794036\n",
      "Accuracy of the model:\t\t\t 0.9067332278095702\n"
     ]
    }
   ],
   "source": [
    "# Separate input features (X) and target variable (y)\n",
    "y = df_downsampled.isFraud\n",
    "X = df_downsampled.drop(['isFraud'], axis=1)\n",
    " \n",
    "# Train model\n",
    "model_down = LogisticRegression().fit(X, y)\n",
    " \n",
    "# Predict on training set\n",
    "down_scale_pred = model_down.predict(X)\n",
    " \n",
    "print(\"How many class does the model predict?\",np.unique( down_scale_pred ))\n",
    "print(\"Count in each class:\\t\\t\\t\",\"0 :\",len(down_scale_pred[down_scale_pred==0]))\n",
    "print(\"\\t\\t\\t\\t\\t 1 :\",len(down_scale_pred[down_scale_pred==1]))\n",
    "\n",
    "#Calculating and printing the f1 score \n",
    "f1down_scale_pred = f1_score(y, down_scale_pred)\n",
    "print('f1 score for the testing data:\\t\\t', f1down_scale_pred)\n",
    "\n",
    "      \n",
    "acc_down_scale=accuracy_score(y, down_scale_pred) \n",
    "print(\"Accuracy of the model:\\t\\t\\t\", acc_down_scale)\n"
   ]
  },
  {
   "cell_type": "markdown",
   "id": "90b388b3",
   "metadata": {
    "id": "90b388b3",
    "papermill": {
     "duration": 0.043746,
     "end_time": "2022-02-04T02:37:52.694034",
     "exception": false,
     "start_time": "2022-02-04T02:37:52.650288",
     "status": "completed"
    },
    "tags": []
   },
   "source": [
    "# 3. Tree-Based Algorithms"
   ]
  },
  {
   "cell_type": "code",
   "execution_count": 36,
   "id": "c53acfbb",
   "metadata": {
    "execution": {
     "iopub.execute_input": "2022-02-04T02:37:52.786396Z",
     "iopub.status.busy": "2022-02-04T02:37:52.785677Z",
     "iopub.status.idle": "2022-02-04T02:52:58.007681Z",
     "shell.execute_reply": "2022-02-04T02:52:58.006610Z",
     "shell.execute_reply.started": "2022-02-04T02:04:21.771754Z"
    },
    "id": "c53acfbb",
    "papermill": {
     "duration": 905.268159,
     "end_time": "2022-02-04T02:52:58.008053",
     "exception": false,
     "start_time": "2022-02-04T02:37:52.739894",
     "status": "completed"
    },
    "tags": []
   },
   "outputs": [],
   "source": [
    "# Separate input features (X) and target variable (y)\n",
    "y = data.isFraud\n",
    "X = data.drop(['isFraud'], axis=1)\n",
    "\n",
    "X_train, X_test, y_train, y_test = train_test_split(X, y)\n",
    "\n",
    "# Train model\n",
    "rfc = RandomForestClassifier()\n",
    "rfc.fit(X_train, y_train)\n",
    "# Predict on training set\n",
    "rfc_pred = rfc.predict(X_test)"
   ]
  },
  {
   "cell_type": "code",
   "execution_count": 39,
   "id": "23981215",
   "metadata": {
    "colab": {
     "base_uri": "https://localhost:8080/"
    },
    "execution": {
     "iopub.execute_input": "2022-02-04T02:52:58.110921Z",
     "iopub.status.busy": "2022-02-04T02:52:58.110141Z",
     "iopub.status.idle": "2022-02-04T02:53:07.591586Z",
     "shell.execute_reply": "2022-02-04T02:53:07.591004Z",
     "shell.execute_reply.started": "2022-02-04T02:30:16.166769Z"
    },
    "id": "23981215",
    "outputId": "f959f597-42d8-4998-9bfc-a42cf8f1f86f",
    "papermill": {
     "duration": 9.534541,
     "end_time": "2022-02-04T02:53:07.591742",
     "exception": false,
     "start_time": "2022-02-04T02:52:58.057201",
     "status": "completed"
    },
    "tags": []
   },
   "outputs": [
    {
     "name": "stdout",
     "output_type": "stream",
     "text": [
      "f1 score:\t\t 0.8851432699253552\n",
      "Accuracy of the model:\t 0.9997001235340158\n"
     ]
    }
   ],
   "source": [
    "f1_rfc = f1_score(y_test, rfc_pred)\n",
    "print('f1 score:\\t\\t', f1_rfc)\n",
    "\n",
    "\n",
    "acc_rfc=accuracy_score(y_test, rfc_pred) \n",
    "print(\"Accuracy of the model:\\t\", acc_rfc)\n"
   ]
  },
  {
   "cell_type": "code",
   "execution_count": 41,
   "id": "f9c24b7b",
   "metadata": {
    "colab": {
     "base_uri": "https://localhost:8080/"
    },
    "execution": {
     "iopub.execute_input": "2022-02-04T02:53:07.691620Z",
     "iopub.status.busy": "2022-02-04T02:53:07.690635Z",
     "iopub.status.idle": "2022-02-04T02:53:07.694117Z",
     "shell.execute_reply": "2022-02-04T02:53:07.694639Z",
     "shell.execute_reply.started": "2022-02-04T02:27:48.732723Z"
    },
    "id": "f9c24b7b",
    "outputId": "a0f4a9cb-ca12-4411-9c13-5e0af716bcb7",
    "papermill": {
     "duration": 0.058696,
     "end_time": "2022-02-04T02:53:07.694817",
     "exception": false,
     "start_time": "2022-02-04T02:53:07.636121",
     "status": "completed"
    },
    "tags": []
   },
   "outputs": [
    {
     "name": "stdout",
     "output_type": "stream",
     "text": [
      "                            Model  f1 score  Accuracy Score\n",
      "0             Logistic Regression  0.514130        0.999087\n",
      "1    UpScaled Logistic Regression  0.912976        0.905371\n",
      "2  DownScaled Logistic Regression  0.914116        0.906733\n",
      "3                    RandomForest  0.885143        0.999700\n"
     ]
    }
   ],
   "source": [
    "data = {'Model':['Logistic Regression','UpScaled Logistic Regression','DownScaled Logistic Regression','RandomForest'],\n",
    "        'f1 score':[f1score,f1up_scale_pred,f1down_scale_pred,f1_rfc],\n",
    "        'Accuracy Score':[model.score(X_test,y_test),acc_up_scale,acc_down_scale,acc_rfc]}\n",
    "\n",
    "comparision_table=pd.DataFrame(data)                               \n",
    "print(comparision_table)"
   ]
  },
  {
   "cell_type": "code",
   "execution_count": 43,
   "id": "43b5b852",
   "metadata": {
    "id": "43b5b852",
    "papermill": {
     "duration": 0.044386,
     "end_time": "2022-02-04T02:53:07.786897",
     "exception": false,
     "start_time": "2022-02-04T02:53:07.742511",
     "status": "completed"
    },
    "tags": []
   },
   "outputs": [],
   "source": [
    "#import pickle\n",
    "#pickle.dump(model_up,open('/content/drive/MyDrive/Fraud Detection/fraud_model.pkl','wb'))"
   ]
  },
  {
   "cell_type": "code",
   "execution_count": null,
   "id": "IpYVPbNrQReN",
   "metadata": {
    "id": "IpYVPbNrQReN"
   },
   "outputs": [],
   "source": []
  }
 ],
 "metadata": {
  "colab": {
   "collapsed_sections": [],
   "name": "financial-fraud-detection.ipynb",
   "provenance": []
  },
  "kernelspec": {
   "display_name": "Python 3 (ipykernel)",
   "language": "python",
   "name": "python3"
  },
  "language_info": {
   "codemirror_mode": {
    "name": "ipython",
    "version": 3
   },
   "file_extension": ".py",
   "mimetype": "text/x-python",
   "name": "python",
   "nbconvert_exporter": "python",
   "pygments_lexer": "ipython3",
   "version": "3.9.12"
  },
  "papermill": {
   "default_parameters": {},
   "duration": 1062.381226,
   "end_time": "2022-02-04T02:53:09.750763",
   "environment_variables": {},
   "exception": null,
   "input_path": "__notebook__.ipynb",
   "output_path": "__notebook__.ipynb",
   "parameters": {},
   "start_time": "2022-02-04T02:35:27.369537",
   "version": "2.3.3"
  }
 },
 "nbformat": 4,
 "nbformat_minor": 5
}
